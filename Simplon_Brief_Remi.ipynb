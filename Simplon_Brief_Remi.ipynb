{
  "nbformat": 4,
  "nbformat_minor": 0,
  "metadata": {
    "colab": {
      "provenance": []
    },
    "kernelspec": {
      "name": "python3",
      "display_name": "Python 3"
    },
    "language_info": {
      "name": "python"
    }
  },
  "cells": [
    {
      "cell_type": "markdown",
      "source": [
        "# Import Librairies"
      ],
      "metadata": {
        "id": "J-ZA3YOz1iqk"
      }
    },
    {
      "cell_type": "code",
      "source": [
        "from google.colab import drive\n",
        "import pandas as pd\n",
        "import numpy as np"
      ],
      "metadata": {
        "id": "iFD73d5Q1k2Q"
      },
      "execution_count": null,
      "outputs": []
    },
    {
      "cell_type": "markdown",
      "source": [
        "# Import Dataset"
      ],
      "metadata": {
        "id": "9C5CPIDR1chW"
      }
    },
    {
      "cell_type": "code",
      "source": [
        "# monter le disque googleDrive\n",
        "drive.mount('/content/drive')\n",
        "%cd /content/drive/Shareddrives/Ecole\\ IA\\ 4 Bordeaux/Partage\\ Etudiants/\n",
        "# ouvre le fichier\n",
        "data = pd.read_csv(\"Billionaires Statistics Dataset.csv\")"
      ],
      "metadata": {
        "colab": {
          "base_uri": "https://localhost:8080/"
        },
        "id": "k3ekcIEu09gw",
        "outputId": "d3fee650-a9b8-4997-983d-d5fb09080278"
      },
      "execution_count": null,
      "outputs": [
        {
          "output_type": "stream",
          "name": "stdout",
          "text": [
            "Mounted at /content/drive\n",
            "/content/drive/Shareddrives/Ecole IA 4 Bordeaux/Partage Etudiants\n"
          ]
        }
      ]
    },
    {
      "cell_type": "markdown",
      "source": [
        "# Analyse préliminaire"
      ],
      "metadata": {
        "id": "qfyYTUyA-J4C"
      }
    },
    {
      "cell_type": "code",
      "source": [
        "data.info()"
      ],
      "metadata": {
        "colab": {
          "base_uri": "https://localhost:8080/"
        },
        "id": "FsVNpG-E-_AF",
        "outputId": "b4fc66e9-1f99-4df6-df37-cf7a4af96287"
      },
      "execution_count": null,
      "outputs": [
        {
          "output_type": "stream",
          "name": "stdout",
          "text": [
            "<class 'pandas.core.frame.DataFrame'>\n",
            "RangeIndex: 2640 entries, 0 to 2639\n",
            "Data columns (total 35 columns):\n",
            " #   Column                                      Non-Null Count  Dtype  \n",
            "---  ------                                      --------------  -----  \n",
            " 0   rank                                        2640 non-null   int64  \n",
            " 1   finalWorth                                  2640 non-null   int64  \n",
            " 2   category                                    2640 non-null   object \n",
            " 3   personName                                  2640 non-null   object \n",
            " 4   age                                         2575 non-null   float64\n",
            " 5   country                                     2602 non-null   object \n",
            " 6   city                                        2568 non-null   object \n",
            " 7   source                                      2640 non-null   object \n",
            " 8   industries                                  2640 non-null   object \n",
            " 9   countryOfCitizenship                        2640 non-null   object \n",
            " 10  organization                                325 non-null    object \n",
            " 11  selfMade                                    2640 non-null   bool   \n",
            " 12  status                                      2640 non-null   object \n",
            " 13  gender                                      2640 non-null   object \n",
            " 14  birthDate                                   2564 non-null   object \n",
            " 15  lastName                                    2640 non-null   object \n",
            " 16  firstName                                   2637 non-null   object \n",
            " 17  title                                       339 non-null    object \n",
            " 18  date                                        2640 non-null   object \n",
            " 19  state                                       753 non-null    object \n",
            " 20  residenceStateRegion                        747 non-null    object \n",
            " 21  birthYear                                   2564 non-null   float64\n",
            " 22  birthMonth                                  2564 non-null   float64\n",
            " 23  birthDay                                    2564 non-null   float64\n",
            " 24  cpi_country                                 2456 non-null   float64\n",
            " 25  cpi_change_country                          2456 non-null   float64\n",
            " 26  gdp_country                                 2476 non-null   object \n",
            " 27  gross_tertiary_education_enrollment         2458 non-null   float64\n",
            " 28  gross_primary_education_enrollment_country  2459 non-null   float64\n",
            " 29  life_expectancy_country                     2458 non-null   float64\n",
            " 30  tax_revenue_country_country                 2457 non-null   float64\n",
            " 31  total_tax_rate_country                      2458 non-null   float64\n",
            " 32  population_country                          2476 non-null   float64\n",
            " 33  latitude_country                            2476 non-null   float64\n",
            " 34  longitude_country                           2476 non-null   float64\n",
            "dtypes: bool(1), float64(14), int64(2), object(18)\n",
            "memory usage: 704.0+ KB\n"
          ]
        }
      ]
    },
    {
      "cell_type": "code",
      "source": [
        "for col in data.columns:\n",
        "  if data[col].isnull().sum() > 0:\n",
        "    print(f\"La colonne {col} à {data[col].isnull().sum()} valeurs nulles\")"
      ],
      "metadata": {
        "colab": {
          "base_uri": "https://localhost:8080/"
        },
        "id": "EtD-euMg-Nmk",
        "outputId": "fbe916f2-26d6-4db9-9368-4cb2831f53bf"
      },
      "execution_count": null,
      "outputs": [
        {
          "output_type": "stream",
          "name": "stdout",
          "text": [
            "La colonne age à 65 valeurs nulles\n",
            "La colonne country à 38 valeurs nulles\n",
            "La colonne city à 72 valeurs nulles\n",
            "La colonne organization à 2315 valeurs nulles\n",
            "La colonne birthDate à 76 valeurs nulles\n",
            "La colonne firstName à 3 valeurs nulles\n",
            "La colonne title à 2301 valeurs nulles\n",
            "La colonne state à 1887 valeurs nulles\n",
            "La colonne residenceStateRegion à 1893 valeurs nulles\n",
            "La colonne birthYear à 76 valeurs nulles\n",
            "La colonne birthMonth à 76 valeurs nulles\n",
            "La colonne birthDay à 76 valeurs nulles\n",
            "La colonne cpi_country à 184 valeurs nulles\n",
            "La colonne cpi_change_country à 184 valeurs nulles\n",
            "La colonne gdp_country à 164 valeurs nulles\n",
            "La colonne gross_tertiary_education_enrollment à 182 valeurs nulles\n",
            "La colonne gross_primary_education_enrollment_country à 181 valeurs nulles\n",
            "La colonne life_expectancy_country à 182 valeurs nulles\n",
            "La colonne tax_revenue_country_country à 183 valeurs nulles\n",
            "La colonne total_tax_rate_country à 182 valeurs nulles\n",
            "La colonne population_country à 164 valeurs nulles\n",
            "La colonne latitude_country à 164 valeurs nulles\n",
            "La colonne longitude_country à 164 valeurs nulles\n"
          ]
        }
      ]
    },
    {
      "cell_type": "code",
      "source": [
        "data.age.isnull().sum()"
      ],
      "metadata": {
        "colab": {
          "base_uri": "https://localhost:8080/"
        },
        "id": "OX45XLW8-oUw",
        "outputId": "574d8057-1fb8-49c2-c798-c656919b26fa"
      },
      "execution_count": null,
      "outputs": [
        {
          "output_type": "execute_result",
          "data": {
            "text/plain": [
              "65"
            ]
          },
          "metadata": {},
          "execution_count": 28
        }
      ]
    },
    {
      "cell_type": "code",
      "source": [
        "# comparaison F/H\n",
        "data.gender.value_counts().plot.pie(autopct='%1.1f%%',\n",
        "                                    title = 'Répartition par genre des Milliardaires',\n",
        "                                    labels=['Hommes','Femmes'],\n",
        "                                    colors=['b','r'])"
      ],
      "metadata": {
        "id": "s15rp1W84R3Y",
        "colab": {
          "base_uri": "https://localhost:8080/",
          "height": 447
        },
        "outputId": "027205f7-ccaa-44b8-b8d3-a3cba59cb696"
      },
      "execution_count": null,
      "outputs": [
        {
          "output_type": "execute_result",
          "data": {
            "text/plain": [
              "<Axes: title={'center': 'Répartition par genre des Milliardaires'}, ylabel='gender'>"
            ]
          },
          "metadata": {},
          "execution_count": 24
        },
        {
          "output_type": "display_data",
          "data": {
            "text/plain": [
              "<Figure size 640x480 with 1 Axes>"
            ],
            "image/png": "[encoded data removed]"
          },
          "metadata": {}
        }
      ]
    },
    {
      "cell_type": "code",
      "source": [
        "import matplotlib.pyplot as plt\n",
        "fig,ax = plt.subplots(figsize=(3,6))\n",
        "ax1 = fig.subplot()\n",
        "ax1.plot.box(data.age)"
      ],
      "metadata": {
        "colab": {
          "base_uri": "https://localhost:8080/",
          "height": 747
        },
        "id": "eo0T1exi527G",
        "outputId": "2e4a2547-55a8-4d66-d2bd-0068f29586a4"
      },
      "execution_count": null,
      "outputs": [
        {
          "output_type": "error",
          "ename": "AttributeError",
          "evalue": "ignored",
          "traceback": [
            "\u001b[0;31m---------------------------------------------------------------------------\u001b[0m",
            "\u001b[0;31mAttributeError\u001b[0m                            Traceback (most recent call last)",
            "\u001b[0;32m<ipython-input-25-cd831144600c>\u001b[0m in \u001b[0;36m<cell line: 3>\u001b[0;34m()\u001b[0m\n\u001b[1;32m      1\u001b[0m \u001b[0;32mimport\u001b[0m \u001b[0mmatplotlib\u001b[0m\u001b[0;34m.\u001b[0m\u001b[0mpyplot\u001b[0m \u001b[0;32mas\u001b[0m \u001b[0mplt\u001b[0m\u001b[0;34m\u001b[0m\u001b[0;34m\u001b[0m\u001b[0m\n\u001b[1;32m      2\u001b[0m \u001b[0mfig\u001b[0m\u001b[0;34m,\u001b[0m\u001b[0max\u001b[0m \u001b[0;34m=\u001b[0m \u001b[0mplt\u001b[0m\u001b[0;34m.\u001b[0m\u001b[0msubplots\u001b[0m\u001b[0;34m(\u001b[0m\u001b[0mfigsize\u001b[0m\u001b[0;34m=\u001b[0m\u001b[0;34m(\u001b[0m\u001b[0;36m3\u001b[0m\u001b[0;34m,\u001b[0m\u001b[0;36m6\u001b[0m\u001b[0;34m)\u001b[0m\u001b[0;34m)\u001b[0m\u001b[0;34m\u001b[0m\u001b[0;34m\u001b[0m\u001b[0m\n\u001b[0;32m----> 3\u001b[0;31m \u001b[0max1\u001b[0m \u001b[0;34m=\u001b[0m \u001b[0mfig\u001b[0m\u001b[0;34m.\u001b[0m\u001b[0msubplot\u001b[0m\u001b[0;34m(\u001b[0m\u001b[0;34m)\u001b[0m\u001b[0;34m\u001b[0m\u001b[0;34m\u001b[0m\u001b[0m\n\u001b[0m\u001b[1;32m      4\u001b[0m \u001b[0max1\u001b[0m\u001b[0;34m.\u001b[0m\u001b[0mplot\u001b[0m\u001b[0;34m.\u001b[0m\u001b[0mbox\u001b[0m\u001b[0;34m(\u001b[0m\u001b[0mdata\u001b[0m\u001b[0;34m.\u001b[0m\u001b[0mage\u001b[0m\u001b[0;34m)\u001b[0m\u001b[0;34m\u001b[0m\u001b[0;34m\u001b[0m\u001b[0m\n",
            "\u001b[0;31mAttributeError\u001b[0m: 'Figure' object has no attribute 'subplot'"
          ]
        },
        {
          "output_type": "display_data",
          "data": {
            "text/plain": [
              "<Figure size 300x600 with 1 Axes>"
            ],
            "image/png": "[encoded data removed]"
          },
          "metadata": {}
        }
      ]
    }
  ]
}