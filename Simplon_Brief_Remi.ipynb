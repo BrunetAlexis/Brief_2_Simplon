{
  "cells": [
    {
      "cell_type": "markdown",
      "metadata": {
        "id": "J-ZA3YOz1iqk"
      },
      "source": [
        "# Import Librairies"
      ]
    },
    {
      "cell_type": "code",
      "execution_count": 79,
      "metadata": {
        "id": "iFD73d5Q1k2Q"
      },
      "outputs": [],
      "source": [
        "import seaborn as sns\n",
        "import pandas as pd\n",
        "import numpy as np\n",
        "import matplotlib.pyplot as plt\n"
      ]
    },
    {
      "cell_type": "markdown",
      "metadata": {
        "id": "9C5CPIDR1chW"
      },
      "source": [
        "# Import Dataset(s)"
      ]
    },
    {
      "cell_type": "code",
      "execution_count": 80,
      "metadata": {
        "colab": {
          "base_uri": "https://localhost:8080/"
        },
        "id": "LwbhFrj28nc8",
        "outputId": "04624ffb-a946-45d8-c59c-af150b1133e5"
      },
      "outputs": [
        {
          "data": {
            "text/plain": [
              "\"# monter le disque googleDrive\\ndrive.mount('/content/drive')\\n#%cd /content/drive/Shareddrives/Ecole\\\\ IA\\\\ 4 Bordeaux/Partage\\\\ Etudiants/       # PATH TO SHARED DRIVE\\n%cd /content/drive/MyDrive/Colab Notebooks/Data/Simplon_brief\""
            ]
          },
          "execution_count": 80,
          "metadata": {},
          "output_type": "execute_result"
        }
      ],
      "source": [
        "\"\"\"# monter le disque googleDrive\n",
        "drive.mount('/content/drive')\n",
        "#%cd /content/drive/Shareddrives/Ecole\\ IA\\ 4 Bordeaux/Partage\\ Etudiants/       # PATH TO SHARED DRIVE\n",
        "%cd /content/drive/MyDrive/Colab Notebooks/Data/Simplon_brief\"\"\""
      ]
    },
    {
      "cell_type": "code",
      "execution_count": 81,
      "metadata": {
        "colab": {
          "base_uri": "https://localhost:8080/"
        },
        "id": "J6gUC7nI8raw",
        "outputId": "536f1c19-0751-45a9-836d-a3bb81adc3ba"
      },
      "outputs": [
        {
          "name": "stdout",
          "output_type": "stream",
          "text": [
            "<class 'pandas.core.frame.DataFrame'>\n",
            "RangeIndex: 352369 entries, 0 to 352368\n",
            "Data columns (total 18 columns):\n",
            " #   Column                 Non-Null Count   Dtype \n",
            "---  ------                 --------------   ----- \n",
            " 0   Unnamed: 0             352369 non-null  int64 \n",
            " 1   name                   352369 non-null  object\n",
            " 2   last_name              341519 non-null  object\n",
            " 3   age                    352369 non-null  int64 \n",
            " 4   gender                 340477 non-null  object\n",
            " 5   time                   352369 non-null  int64 \n",
            " 6   permanent_country      304678 non-null  object\n",
            " 7   company                326869 non-null  object\n",
            " 8   main_industry          352369 non-null  object\n",
            " 9   wealth_source_details  341447 non-null  object\n",
            " 10  industry               352320 non-null  object\n",
            " 11  state                  159190 non-null  object\n",
            " 12  headquarters           133655 non-null  object\n",
            " 13  countries              352369 non-null  object\n",
            " 14  annual_income          352369 non-null  int64 \n",
            " 15  daily_income           352369 non-null  int64 \n",
            " 16  birth_year             352369 non-null  int64 \n",
            " 17  name_cleaned           352369 non-null  object\n",
            "dtypes: int64(6), object(12)\n",
            "memory usage: 48.4+ MB\n"
          ]
        }
      ],
      "source": [
        "data = pd.read_csv(\"Data/billionaire_list_20yrs.csv\")\n",
        "data.info()        "
      ]
    },
    {
      "cell_type": "code",
      "execution_count": 82,
      "metadata": {},
      "outputs": [
        {
          "data": {
            "text/html": [
              "<div>\n",
              "<style scoped>\n",
              "    .dataframe tbody tr th:only-of-type {\n",
              "        vertical-align: middle;\n",
              "    }\n",
              "\n",
              "    .dataframe tbody tr th {\n",
              "        vertical-align: top;\n",
              "    }\n",
              "\n",
              "    .dataframe thead th {\n",
              "        text-align: right;\n",
              "    }\n",
              "</style>\n",
              "<table border=\"1\" class=\"dataframe\">\n",
              "  <thead>\n",
              "    <tr style=\"text-align: right;\">\n",
              "      <th></th>\n",
              "      <th>permanent_country</th>\n",
              "      <th>countries</th>\n",
              "    </tr>\n",
              "  </thead>\n",
              "  <tbody>\n",
              "    <tr>\n",
              "      <th>210297</th>\n",
              "      <td>United States-Texas-Dallas</td>\n",
              "      <td>usa</td>\n",
              "    </tr>\n",
              "    <tr>\n",
              "      <th>162850</th>\n",
              "      <td>United States-Wyoming-Jackson</td>\n",
              "      <td>usa</td>\n",
              "    </tr>\n",
              "    <tr>\n",
              "      <th>350498</th>\n",
              "      <td>China-Singapore-Po</td>\n",
              "      <td>sgp;chn</td>\n",
              "    </tr>\n",
              "    <tr>\n",
              "      <th>203642</th>\n",
              "      <td>China-Guangdong-Huizhou</td>\n",
              "      <td>chn</td>\n",
              "    </tr>\n",
              "    <tr>\n",
              "      <th>17900</th>\n",
              "      <td>United States-Texas-Fort Worth</td>\n",
              "      <td>usa</td>\n",
              "    </tr>\n",
              "    <tr>\n",
              "      <th>65131</th>\n",
              "      <td>China -Hubei-Wuhan</td>\n",
              "      <td>chn</td>\n",
              "    </tr>\n",
              "    <tr>\n",
              "      <th>65583</th>\n",
              "      <td>United States-Maryland-Potomac</td>\n",
              "      <td>usa</td>\n",
              "    </tr>\n",
              "    <tr>\n",
              "      <th>14425</th>\n",
              "      <td>NaN</td>\n",
              "      <td>rus</td>\n",
              "    </tr>\n",
              "    <tr>\n",
              "      <th>84114</th>\n",
              "      <td>China-Guangdong-Shenzhen</td>\n",
              "      <td>usa;chn</td>\n",
              "    </tr>\n",
              "    <tr>\n",
              "      <th>84926</th>\n",
              "      <td>Brazil-Sao Paulo</td>\n",
              "      <td>bra</td>\n",
              "    </tr>\n",
              "    <tr>\n",
              "      <th>213536</th>\n",
              "      <td>Japan-Tokyo</td>\n",
              "      <td>jpn</td>\n",
              "    </tr>\n",
              "    <tr>\n",
              "      <th>96775</th>\n",
              "      <td>Brazil-Sao Paulo</td>\n",
              "      <td>bra</td>\n",
              "    </tr>\n",
              "    <tr>\n",
              "      <th>215980</th>\n",
              "      <td>Sweden-Stockholm County-Stockholm</td>\n",
              "      <td>swe</td>\n",
              "    </tr>\n",
              "    <tr>\n",
              "      <th>197764</th>\n",
              "      <td>Australia-Melbourne</td>\n",
              "      <td>aus</td>\n",
              "    </tr>\n",
              "    <tr>\n",
              "      <th>80047</th>\n",
              "      <td>United States-Florida-Palm Beach</td>\n",
              "      <td>usa</td>\n",
              "    </tr>\n",
              "    <tr>\n",
              "      <th>94578</th>\n",
              "      <td>NaN</td>\n",
              "      <td>usa</td>\n",
              "    </tr>\n",
              "    <tr>\n",
              "      <th>57585</th>\n",
              "      <td>China-Fujian-Fuzhou</td>\n",
              "      <td>chn</td>\n",
              "    </tr>\n",
              "    <tr>\n",
              "      <th>138135</th>\n",
              "      <td>United States-New York-New York</td>\n",
              "      <td>usa</td>\n",
              "    </tr>\n",
              "    <tr>\n",
              "      <th>215183</th>\n",
              "      <td>Russia-Moscow</td>\n",
              "      <td>rus</td>\n",
              "    </tr>\n",
              "    <tr>\n",
              "      <th>114121</th>\n",
              "      <td>India-Mumbai</td>\n",
              "      <td>ind</td>\n",
              "    </tr>\n",
              "  </tbody>\n",
              "</table>\n",
              "</div>"
            ],
            "text/plain": [
              "                        permanent_country countries\n",
              "210297         United States-Texas-Dallas       usa\n",
              "162850      United States-Wyoming-Jackson       usa\n",
              "350498                 China-Singapore-Po   sgp;chn\n",
              "203642            China-Guangdong-Huizhou       chn\n",
              "17900      United States-Texas-Fort Worth       usa\n",
              "65131                  China -Hubei-Wuhan       chn\n",
              "65583      United States-Maryland-Potomac       usa\n",
              "14425                                 NaN       rus\n",
              "84114            China-Guangdong-Shenzhen   usa;chn\n",
              "84926                    Brazil-Sao Paulo       bra\n",
              "213536                        Japan-Tokyo       jpn\n",
              "96775                    Brazil-Sao Paulo       bra\n",
              "215980  Sweden-Stockholm County-Stockholm       swe\n",
              "197764                Australia-Melbourne       aus\n",
              "80047    United States-Florida-Palm Beach       usa\n",
              "94578                                 NaN       usa\n",
              "57585                 China-Fujian-Fuzhou       chn\n",
              "138135    United States-New York-New York       usa\n",
              "215183                      Russia-Moscow       rus\n",
              "114121                       India-Mumbai       ind"
            ]
          },
          "execution_count": 82,
          "metadata": {},
          "output_type": "execute_result"
        }
      ],
      "source": [
        "data[['permanent_country','countries']].sample(20)"
      ]
    },
    {
      "cell_type": "code",
      "execution_count": null,
      "metadata": {},
      "outputs": [],
      "source": []
    },
    {
      "cell_type": "markdown",
      "metadata": {},
      "source": [
        "# Data cleaning"
      ]
    },
    {
      "cell_type": "code",
      "execution_count": 83,
      "metadata": {},
      "outputs": [
        {
          "data": {
            "text/html": [
              "<div>\n",
              "<style scoped>\n",
              "    .dataframe tbody tr th:only-of-type {\n",
              "        vertical-align: middle;\n",
              "    }\n",
              "\n",
              "    .dataframe tbody tr th {\n",
              "        vertical-align: top;\n",
              "    }\n",
              "\n",
              "    .dataframe thead th {\n",
              "        text-align: right;\n",
              "    }\n",
              "</style>\n",
              "<table border=\"1\" class=\"dataframe\">\n",
              "  <thead>\n",
              "    <tr style=\"text-align: right;\">\n",
              "      <th></th>\n",
              "      <th>name</th>\n",
              "      <th>last_name</th>\n",
              "      <th>name_cleaned</th>\n",
              "    </tr>\n",
              "  </thead>\n",
              "  <tbody>\n",
              "    <tr>\n",
              "      <th>349321</th>\n",
              "      <td>Zhang Xuexin</td>\n",
              "      <td>Zhang</td>\n",
              "      <td>zhang_xuexin</td>\n",
              "    </tr>\n",
              "    <tr>\n",
              "      <th>210563</th>\n",
              "      <td>Mark Rein</td>\n",
              "      <td>Rein</td>\n",
              "      <td>mark_rein</td>\n",
              "    </tr>\n",
              "    <tr>\n",
              "      <th>144476</th>\n",
              "      <td>Jan Koum</td>\n",
              "      <td>Koum</td>\n",
              "      <td>jan_koum</td>\n",
              "    </tr>\n",
              "    <tr>\n",
              "      <th>3763</th>\n",
              "      <td>Philippe Stern</td>\n",
              "      <td>NaN</td>\n",
              "      <td>philippe_stern</td>\n",
              "    </tr>\n",
              "    <tr>\n",
              "      <th>131874</th>\n",
              "      <td>Huang Shaowu</td>\n",
              "      <td>Huang</td>\n",
              "      <td>huang_shaowu</td>\n",
              "    </tr>\n",
              "  </tbody>\n",
              "</table>\n",
              "</div>"
            ],
            "text/plain": [
              "                  name last_name    name_cleaned\n",
              "349321    Zhang Xuexin     Zhang    zhang_xuexin\n",
              "210563       Mark Rein      Rein       mark_rein\n",
              "144476        Jan Koum      Koum        jan_koum\n",
              "3763    Philippe Stern       NaN  philippe_stern\n",
              "131874    Huang Shaowu     Huang    huang_shaowu"
            ]
          },
          "metadata": {},
          "output_type": "display_data"
        },
        {
          "name": "stdout",
          "output_type": "stream",
          "text": [
            "<class 'pandas.core.frame.DataFrame'>\n",
            "Int64Index: 30912 entries, 0 to 352352\n",
            "Data columns (total 9 columns):\n",
            " #   Column             Non-Null Count  Dtype \n",
            "---  ------             --------------  ----- \n",
            " 0   Unnamed: 0         30912 non-null  int64 \n",
            " 1   age                30912 non-null  int64 \n",
            " 2   gender             28112 non-null  object\n",
            " 3   time               30912 non-null  int64 \n",
            " 4   permanent_country  25428 non-null  object\n",
            " 5   main_industry      30912 non-null  object\n",
            " 6   countries          30912 non-null  object\n",
            " 7   annual_income      30912 non-null  int64 \n",
            " 8   name_cleaned       30912 non-null  object\n",
            "dtypes: int64(4), object(5)\n",
            "memory usage: 2.4+ MB\n"
          ]
        }
      ],
      "source": [
        "# remove duplicate columns (because of daily_income, each name appear many times a year)\n",
        "data.drop_duplicates(['name','annual_income'], inplace=True)\n",
        "\n",
        "# make age real for today (year 2024)\n",
        "data.age = 2023 - data.birth_year\n",
        "\n",
        "# remove columns with redondent information\n",
        "display(data[['name','last_name','name_cleaned']].sample(5))  # name_cleaned took care of removing \",\" and \"()\"\n",
        "data.drop(['name','last_name'], axis=1, inplace=True)\n",
        "data.name_cleaned = data.name_cleaned.apply(lambda x: x.replace(\"-\",\" \").capitalize()) # make name pretty\n",
        "\n",
        "# remove unnecessary columns\n",
        "data.drop(['company','wealth_source_details','industry','state','headquarters','daily_income','birth_year'], axis=1, inplace=True)\n",
        "data.info()\n",
        "\n",
        "# mettre l'argent en billion de dollars\n",
        "data.annual_income /= 1e9"
      ]
    },
    {
      "cell_type": "code",
      "execution_count": 84,
      "metadata": {},
      "outputs": [
        {
          "name": "stdout",
          "output_type": "stream",
          "text": [
            "verifie la proportion de valeurs nulles\n",
            "Unnamed: 0 has 0 % valeurs nulles\n",
            "age has 0 % valeurs nulles\n",
            "gender has 10 % valeurs nulles\n",
            "time has 0 % valeurs nulles\n",
            "permanent_country has 22 % valeurs nulles\n",
            "main_industry has 0 % valeurs nulles\n",
            "countries has 0 % valeurs nulles\n",
            "annual_income has 0 % valeurs nulles\n",
            "name_cleaned has 0 % valeurs nulles\n"
          ]
        }
      ],
      "source": [
        "# quelle est la proportion de valeurs nulles ?\n",
        "print(\"verifie la proportion de valeurs nulles\")\n",
        "for col in data.columns:\n",
        "    print(f\"{col} has {round(100*data[col].isnull().sum()/data[col].count())} % valeurs nulles\")"
      ]
    },
    {
      "cell_type": "code",
      "execution_count": 99,
      "metadata": {},
      "outputs": [
        {
          "data": {
            "text/html": [
              "<div>\n",
              "<style scoped>\n",
              "    .dataframe tbody tr th:only-of-type {\n",
              "        vertical-align: middle;\n",
              "    }\n",
              "\n",
              "    .dataframe tbody tr th {\n",
              "        vertical-align: top;\n",
              "    }\n",
              "\n",
              "    .dataframe thead th {\n",
              "        text-align: right;\n",
              "    }\n",
              "</style>\n",
              "<table border=\"1\" class=\"dataframe\">\n",
              "  <thead>\n",
              "    <tr style=\"text-align: right;\">\n",
              "      <th></th>\n",
              "      <th>permanent_country</th>\n",
              "      <th>countries</th>\n",
              "    </tr>\n",
              "  </thead>\n",
              "  <tbody>\n",
              "    <tr>\n",
              "      <th>252996</th>\n",
              "      <td>Canada</td>\n",
              "      <td>can</td>\n",
              "    </tr>\n",
              "    <tr>\n",
              "      <th>281358</th>\n",
              "      <td>nan</td>\n",
              "      <td>usa</td>\n",
              "    </tr>\n",
              "    <tr>\n",
              "      <th>89750</th>\n",
              "      <td>Germany</td>\n",
              "      <td>deu</td>\n",
              "    </tr>\n",
              "    <tr>\n",
              "      <th>21649</th>\n",
              "      <td>nan</td>\n",
              "      <td>bra</td>\n",
              "    </tr>\n",
              "    <tr>\n",
              "      <th>98806</th>\n",
              "      <td>Brazil</td>\n",
              "      <td>bra</td>\n",
              "    </tr>\n",
              "  </tbody>\n",
              "</table>\n",
              "</div>"
            ],
            "text/plain": [
              "       permanent_country countries\n",
              "252996            Canada       can\n",
              "281358               nan       usa\n",
              "89750            Germany       deu\n",
              "21649                nan       bra\n",
              "98806             Brazil       bra"
            ]
          },
          "metadata": {},
          "output_type": "display_data"
        },
        {
          "data": {
            "text/plain": [
              "{'are': 'United Arab Emirates',\n",
              " 'chn': 'China',\n",
              " 'ita': 'Italy',\n",
              " 'mex': 'Mexico',\n",
              " 'usa': 'United States',\n",
              " 'fra': 'France',\n",
              " 'gbr': 'United Kingdom',\n",
              " 'ind': 'India',\n",
              " 'deu': 'Germany',\n",
              " 'arg': 'Mexico',\n",
              " 'che': 'Switzerland',\n",
              " 'tha': 'Thailand',\n",
              " 'bra': 'Brazil',\n",
              " 'chl': 'Chile',\n",
              " 'nor': 'Norway',\n",
              " 'jpn': 'Japan',\n",
              " 'irl': 'United States',\n",
              " 'nld': 'Netherlands',\n",
              " 'idn': 'Indonesia',\n",
              " 'mys': 'Malaysia',\n",
              " 'kor': 'South Korea',\n",
              " 'aus': 'Melbourne',\n",
              " 'sgp': 'China',\n",
              " 'mar': 'Morocco',\n",
              " 'rus': 'Russia',\n",
              " 'mco': 'Monaco',\n",
              " 'sau': 'Saudi Arabia',\n",
              " 'nga': 'Nigeria',\n",
              " 'isr': 'Israel',\n",
              " 'dnk': 'Denmark',\n",
              " 'tur': 'Turkey',\n",
              " 'can': 'China',\n",
              " 'esp': 'Spain',\n",
              " 'kaz': 'Kazakhstan',\n",
              " 'prt': 'Portugal',\n",
              " 'per': 'Peru',\n",
              " 'cze': 'Czech Republic',\n",
              " 'phl': 'Philippines',\n",
              " 'swe': 'Sweden',\n",
              " 'fin': 'Finland',\n",
              " 'grc': 'Brazil',\n",
              " 'lbn': 'Lebanon',\n",
              " 'bel': 'Kazakhstan',\n",
              " 'kwt': 'Kuwait',\n",
              " 'geo': 'Kazakhstan',\n",
              " 'npl': 'Nepal',\n",
              " 'col': 'Colombia',\n",
              " 'zaf': 'South Africa',\n",
              " 'lie': 'Liechtenstein',\n",
              " 'nzl': 'Singapore',\n",
              " 'cyp': 'United Kingdom',\n",
              " 'rou': 'Romania',\n",
              " 'isl': 'UK',\n",
              " 'aut': 'Austria',\n",
              " 'pol': 'Poland',\n",
              " 'qat': 'Qatar',\n",
              " 'ven': 'Venezuela',\n",
              " 'brn': 'Brunei',\n",
              " 'vnm': 'Vietnam',\n",
              " 'blz': 'Cayman Islands',\n",
              " 'ago': 'Angola',\n",
              " 'dza': 'Algeria',\n",
              " 'svk': 'Slovakia',\n",
              " 'kna': 'China',\n",
              " 'ukr': 'Ukraine',\n",
              " 'est': 'UK',\n",
              " 'egy': 'Egypt',\n",
              " 'omn': 'India',\n",
              " 'tza': 'Tanzania',\n",
              " 'swz': 'United Kingdom',\n",
              " 'hun': 'Hungary',\n",
              " 'bgd': 'Bangladesh',\n",
              " 'gbg': 'United Kingdom',\n",
              " 'zwe': 'UK'}"
            ]
          },
          "metadata": {},
          "output_type": "display_data"
        },
        {
          "ename": "KeyError",
          "evalue": "'ury'",
          "output_type": "error",
          "traceback": [
            "\u001b[0;31m---------------------------------------------------------------------------\u001b[0m",
            "\u001b[0;31mKeyError\u001b[0m                                  Traceback (most recent call last)",
            "\u001b[0;32m/var/folders/dv/gzhyqctn53s9bh23g7tbvl940000gn/T/ipykernel_18041/1050482501.py\u001b[0m in \u001b[0;36m<module>\u001b[0;34m\u001b[0m\n\u001b[1;32m     16\u001b[0m \u001b[0;34m\u001b[0m\u001b[0m\n\u001b[1;32m     17\u001b[0m \u001b[0;31m# attribue le nom de pays en fonction du code pays\u001b[0m\u001b[0;34m\u001b[0m\u001b[0;34m\u001b[0m\u001b[0m\n\u001b[0;32m---> 18\u001b[0;31m \u001b[0mdata\u001b[0m\u001b[0;34m[\u001b[0m\u001b[0;34m'permanent_country_good'\u001b[0m\u001b[0;34m]\u001b[0m \u001b[0;34m=\u001b[0m \u001b[0;34m[\u001b[0m\u001b[0mcountry_dict\u001b[0m\u001b[0;34m[\u001b[0m\u001b[0mcode\u001b[0m\u001b[0;34m]\u001b[0m \u001b[0;32mfor\u001b[0m \u001b[0mcode\u001b[0m \u001b[0;32min\u001b[0m \u001b[0mdata\u001b[0m\u001b[0;34m[\u001b[0m\u001b[0;34m'countries'\u001b[0m\u001b[0;34m]\u001b[0m\u001b[0;34m]\u001b[0m\u001b[0;34m\u001b[0m\u001b[0;34m\u001b[0m\u001b[0m\n\u001b[0m\u001b[1;32m     19\u001b[0m \u001b[0mdisplay\u001b[0m\u001b[0;34m(\u001b[0m\u001b[0mdata\u001b[0m\u001b[0;34m[\u001b[0m\u001b[0;34m[\u001b[0m\u001b[0;34m'permanent_country'\u001b[0m\u001b[0;34m,\u001b[0m\u001b[0;34m'permanent_country_good'\u001b[0m\u001b[0;34m,\u001b[0m\u001b[0;34m'countries'\u001b[0m\u001b[0;34m]\u001b[0m\u001b[0;34m]\u001b[0m\u001b[0;34m.\u001b[0m\u001b[0msample\u001b[0m\u001b[0;34m(\u001b[0m\u001b[0;36m20\u001b[0m\u001b[0;34m)\u001b[0m\u001b[0;34m)\u001b[0m\u001b[0;34m\u001b[0m\u001b[0;34m\u001b[0m\u001b[0m\n\u001b[1;32m     20\u001b[0m \u001b[0mdata\u001b[0m\u001b[0;34m.\u001b[0m\u001b[0mdrop\u001b[0m\u001b[0;34m(\u001b[0m\u001b[0;34m[\u001b[0m\u001b[0;34m'countries'\u001b[0m\u001b[0;34m]\u001b[0m\u001b[0;34m,\u001b[0m \u001b[0maxis\u001b[0m\u001b[0;34m=\u001b[0m\u001b[0;36m1\u001b[0m\u001b[0;34m,\u001b[0m \u001b[0minplace\u001b[0m\u001b[0;34m=\u001b[0m\u001b[0;32mTrue\u001b[0m\u001b[0;34m)\u001b[0m\u001b[0;34m\u001b[0m\u001b[0;34m\u001b[0m\u001b[0m\n",
            "\u001b[0;32m/var/folders/dv/gzhyqctn53s9bh23g7tbvl940000gn/T/ipykernel_18041/1050482501.py\u001b[0m in \u001b[0;36m<listcomp>\u001b[0;34m(.0)\u001b[0m\n\u001b[1;32m     16\u001b[0m \u001b[0;34m\u001b[0m\u001b[0m\n\u001b[1;32m     17\u001b[0m \u001b[0;31m# attribue le nom de pays en fonction du code pays\u001b[0m\u001b[0;34m\u001b[0m\u001b[0;34m\u001b[0m\u001b[0m\n\u001b[0;32m---> 18\u001b[0;31m \u001b[0mdata\u001b[0m\u001b[0;34m[\u001b[0m\u001b[0;34m'permanent_country_good'\u001b[0m\u001b[0;34m]\u001b[0m \u001b[0;34m=\u001b[0m \u001b[0;34m[\u001b[0m\u001b[0mcountry_dict\u001b[0m\u001b[0;34m[\u001b[0m\u001b[0mcode\u001b[0m\u001b[0;34m]\u001b[0m \u001b[0;32mfor\u001b[0m \u001b[0mcode\u001b[0m \u001b[0;32min\u001b[0m \u001b[0mdata\u001b[0m\u001b[0;34m[\u001b[0m\u001b[0;34m'countries'\u001b[0m\u001b[0;34m]\u001b[0m\u001b[0;34m]\u001b[0m\u001b[0;34m\u001b[0m\u001b[0;34m\u001b[0m\u001b[0m\n\u001b[0m\u001b[1;32m     19\u001b[0m \u001b[0mdisplay\u001b[0m\u001b[0;34m(\u001b[0m\u001b[0mdata\u001b[0m\u001b[0;34m[\u001b[0m\u001b[0;34m[\u001b[0m\u001b[0;34m'permanent_country'\u001b[0m\u001b[0;34m,\u001b[0m\u001b[0;34m'permanent_country_good'\u001b[0m\u001b[0;34m,\u001b[0m\u001b[0;34m'countries'\u001b[0m\u001b[0;34m]\u001b[0m\u001b[0;34m]\u001b[0m\u001b[0;34m.\u001b[0m\u001b[0msample\u001b[0m\u001b[0;34m(\u001b[0m\u001b[0;36m20\u001b[0m\u001b[0;34m)\u001b[0m\u001b[0;34m)\u001b[0m\u001b[0;34m\u001b[0m\u001b[0;34m\u001b[0m\u001b[0m\n\u001b[1;32m     20\u001b[0m \u001b[0mdata\u001b[0m\u001b[0;34m.\u001b[0m\u001b[0mdrop\u001b[0m\u001b[0;34m(\u001b[0m\u001b[0;34m[\u001b[0m\u001b[0;34m'countries'\u001b[0m\u001b[0;34m]\u001b[0m\u001b[0;34m,\u001b[0m \u001b[0maxis\u001b[0m\u001b[0;34m=\u001b[0m\u001b[0;36m1\u001b[0m\u001b[0;34m,\u001b[0m \u001b[0minplace\u001b[0m\u001b[0;34m=\u001b[0m\u001b[0;32mTrue\u001b[0m\u001b[0;34m)\u001b[0m\u001b[0;34m\u001b[0m\u001b[0;34m\u001b[0m\u001b[0m\n",
            "\u001b[0;31mKeyError\u001b[0m: 'ury'"
          ]
        }
      ],
      "source": [
        "### remmetre les pays là ou il y a des valeur manquantes\n",
        "display(data[['permanent_country','countries']].sample(5))\n",
        "\n",
        "# reinitialise les codes pays avec le dernier element de la liste spearé par ';'\n",
        "data.countries = data.countries.apply(lambda x: str(x).split(\";\")[0])\n",
        "# reinitialise les noms pays avec le premier element de la liste spearé par '-'\n",
        "data.permanent_country = data.permanent_country.apply(lambda x: str(x).split(\"-\")[0])\n",
        "\n",
        "#construit dictionnaire des noms de pays en fonction des codes pays\n",
        "country_dict = {}\n",
        "for name,code in zip(data.permanent_country, data.countries):\n",
        "    if name != 'nan':\n",
        "        country_dict[code] = name\n",
        "\n",
        "display(country_dict)\n",
        "\n",
        "# attribue le nom de pays en fonction du code pays\n",
        "data['permanent_country_good'] = [country_dict[code] for code in data['countries']]\n",
        "display(data[['permanent_country','permanent_country_good','countries']].sample(20))\n",
        "data.drop(['countries'], axis=1, inplace=True)\n",
        "\n",
        "# check values were filled\n",
        "#data.info()"
      ]
    },
    {
      "cell_type": "code",
      "execution_count": 96,
      "metadata": {},
      "outputs": [
        {
          "data": {
            "text/plain": [
              "nan    72\n",
              "Name: permanent_country_good, dtype: int64"
            ]
          },
          "execution_count": 96,
          "metadata": {},
          "output_type": "execute_result"
        }
      ],
      "source": [
        "data.loc[data.permanent_country == 'Ireland','permanent_country_good'].value_counts()"
      ]
    },
    {
      "cell_type": "code",
      "execution_count": 86,
      "metadata": {},
      "outputs": [
        {
          "data": {
            "text/html": [
              "<div>\n",
              "<style scoped>\n",
              "    .dataframe tbody tr th:only-of-type {\n",
              "        vertical-align: middle;\n",
              "    }\n",
              "\n",
              "    .dataframe tbody tr th {\n",
              "        vertical-align: top;\n",
              "    }\n",
              "\n",
              "    .dataframe thead th {\n",
              "        text-align: right;\n",
              "    }\n",
              "</style>\n",
              "<table border=\"1\" class=\"dataframe\">\n",
              "  <thead>\n",
              "    <tr style=\"text-align: right;\">\n",
              "      <th></th>\n",
              "      <th>permanent_country</th>\n",
              "      <th>countries</th>\n",
              "    </tr>\n",
              "  </thead>\n",
              "  <tbody>\n",
              "    <tr>\n",
              "      <th>318403</th>\n",
              "      <td>United States</td>\n",
              "      <td>usa</td>\n",
              "    </tr>\n",
              "    <tr>\n",
              "      <th>154962</th>\n",
              "      <td>Brazil</td>\n",
              "      <td>bra</td>\n",
              "    </tr>\n",
              "    <tr>\n",
              "      <th>340009</th>\n",
              "      <td>Germany</td>\n",
              "      <td>deu</td>\n",
              "    </tr>\n",
              "    <tr>\n",
              "      <th>252900</th>\n",
              "      <td>Switzerland</td>\n",
              "      <td>fra</td>\n",
              "    </tr>\n",
              "    <tr>\n",
              "      <th>50636</th>\n",
              "      <td>China</td>\n",
              "      <td>chn</td>\n",
              "    </tr>\n",
              "    <tr>\n",
              "      <th>317653</th>\n",
              "      <td>Kazakhstan</td>\n",
              "      <td>kaz</td>\n",
              "    </tr>\n",
              "    <tr>\n",
              "      <th>198229</th>\n",
              "      <td>China</td>\n",
              "      <td>chn</td>\n",
              "    </tr>\n",
              "    <tr>\n",
              "      <th>101707</th>\n",
              "      <td>Germany</td>\n",
              "      <td>deu</td>\n",
              "    </tr>\n",
              "    <tr>\n",
              "      <th>29712</th>\n",
              "      <td>United States</td>\n",
              "      <td>usa</td>\n",
              "    </tr>\n",
              "    <tr>\n",
              "      <th>966</th>\n",
              "      <td>Germany</td>\n",
              "      <td>deu</td>\n",
              "    </tr>\n",
              "    <tr>\n",
              "      <th>188610</th>\n",
              "      <td>United States</td>\n",
              "      <td>usa</td>\n",
              "    </tr>\n",
              "    <tr>\n",
              "      <th>95225</th>\n",
              "      <td>China</td>\n",
              "      <td>chn</td>\n",
              "    </tr>\n",
              "    <tr>\n",
              "      <th>329240</th>\n",
              "      <td>Russia</td>\n",
              "      <td>rus</td>\n",
              "    </tr>\n",
              "    <tr>\n",
              "      <th>234405</th>\n",
              "      <td>China</td>\n",
              "      <td>chn</td>\n",
              "    </tr>\n",
              "    <tr>\n",
              "      <th>59640</th>\n",
              "      <td>nan</td>\n",
              "      <td>kor</td>\n",
              "    </tr>\n",
              "    <tr>\n",
              "      <th>229831</th>\n",
              "      <td>Turkey</td>\n",
              "      <td>tur</td>\n",
              "    </tr>\n",
              "    <tr>\n",
              "      <th>283221</th>\n",
              "      <td>Australia</td>\n",
              "      <td>aus</td>\n",
              "    </tr>\n",
              "    <tr>\n",
              "      <th>11678</th>\n",
              "      <td>United States</td>\n",
              "      <td>usa</td>\n",
              "    </tr>\n",
              "    <tr>\n",
              "      <th>94677</th>\n",
              "      <td>Monaco</td>\n",
              "      <td>isr</td>\n",
              "    </tr>\n",
              "    <tr>\n",
              "      <th>208192</th>\n",
              "      <td>Chile</td>\n",
              "      <td>chl</td>\n",
              "    </tr>\n",
              "  </tbody>\n",
              "</table>\n",
              "</div>"
            ],
            "text/plain": [
              "       permanent_country countries\n",
              "318403     United States       usa\n",
              "154962            Brazil       bra\n",
              "340009           Germany       deu\n",
              "252900       Switzerland       fra\n",
              "50636              China       chn\n",
              "317653        Kazakhstan       kaz\n",
              "198229             China       chn\n",
              "101707           Germany       deu\n",
              "29712      United States       usa\n",
              "966              Germany       deu\n",
              "188610     United States       usa\n",
              "95225              China       chn\n",
              "329240            Russia       rus\n",
              "234405             China       chn\n",
              "59640                nan       kor\n",
              "229831            Turkey       tur\n",
              "283221         Australia       aus\n",
              "11678      United States       usa\n",
              "94677             Monaco       isr\n",
              "208192             Chile       chl"
            ]
          },
          "execution_count": 86,
          "metadata": {},
          "output_type": "execute_result"
        }
      ],
      "source": [
        "data[['permanent_country','countries']].sample(20)"
      ]
    },
    {
      "cell_type": "code",
      "execution_count": 87,
      "metadata": {},
      "outputs": [
        {
          "ename": "NameError",
          "evalue": "name 'stop' is not defined",
          "output_type": "error",
          "traceback": [
            "\u001b[0;31m---------------------------------------------------------------------------\u001b[0m",
            "\u001b[0;31mNameError\u001b[0m                                 Traceback (most recent call last)",
            "\u001b[0;32m/var/folders/dv/gzhyqctn53s9bh23g7tbvl940000gn/T/ipykernel_18041/3957423419.py\u001b[0m in \u001b[0;36m<module>\u001b[0;34m\u001b[0m\n\u001b[0;32m----> 1\u001b[0;31m \u001b[0mstop\u001b[0m\u001b[0;34m\u001b[0m\u001b[0;34m\u001b[0m\u001b[0m\n\u001b[0m",
            "\u001b[0;31mNameError\u001b[0m: name 'stop' is not defined"
          ]
        }
      ],
      "source": [
        "stop"
      ]
    },
    {
      "cell_type": "code",
      "execution_count": null,
      "metadata": {},
      "outputs": [
        {
          "data": {
            "text/plain": [
              "'names = [x for x in data.loc[data.gender.isnull(),\\'name_cleaned\\'].value_counts().index]\\nprint(\"ATTENTION : il y a des doublos dans les noms?!?\")\\n\\ndef choisi_nom(names):\\n    print(\"type \\'m\\' for man and \\'w\\' for woman\")\\n    lst=[]\\n    for name in names:\\n        choice = input(f\"man or woman : {name}\")\\n        if choice == \"m\" or choice == \"M\":\\n            lst.append(\"M\")\\n        elif choice == \"w\" or choice == \"W\":\\n            lst.append(\"W\")\\n        else:\\n            lst.append(\"M/F\")\\n    return lst\\n\\nsexe_prenoms = choisi_nom(names)'"
            ]
          },
          "execution_count": 26,
          "metadata": {},
          "output_type": "execute_result"
        }
      ],
      "source": [
        "\"\"\"names = [x for x in data.loc[data.gender.isnull(),'name_cleaned'].value_counts().index]\n",
        "print(\"ATTENTION : il y a des doublos dans les noms?!?\")\n",
        "\n",
        "def choisi_nom(names):\n",
        "    print(\"type 'm' for man and 'w' for woman\")\n",
        "    lst=[]\n",
        "    for name in names:\n",
        "        choice = input(f\"man or woman : {name}\")\n",
        "        if choice == \"m\" or choice == \"M\":\n",
        "            lst.append(\"M\")\n",
        "        elif choice == \"w\" or choice == \"W\":\n",
        "            lst.append(\"W\")\n",
        "        else:\n",
        "            lst.append(\"M/F\")\n",
        "    return lst\n",
        "\n",
        "sexe_prenoms = choisi_nom(names)\"\"\""
      ]
    },
    {
      "cell_type": "code",
      "execution_count": null,
      "metadata": {},
      "outputs": [],
      "source": [
        "# umputer valeur par defaut 'M;F' aux valeurs manquantes\n",
        "data.loc[data.gender.isnull(),'gender'] = 'M;F'"
      ]
    },
    {
      "cell_type": "code",
      "execution_count": null,
      "metadata": {},
      "outputs": [
        {
          "name": "stdout",
          "output_type": "stream",
          "text": [
            "<class 'pandas.core.frame.DataFrame'>\n",
            "Int64Index: 30912 entries, 0 to 352352\n",
            "Data columns (total 8 columns):\n",
            " #   Column             Non-Null Count  Dtype  \n",
            "---  ------             --------------  -----  \n",
            " 0   Unnamed: 0         30912 non-null  int64  \n",
            " 1   age                30912 non-null  int64  \n",
            " 2   gender             30912 non-null  object \n",
            " 3   time               30912 non-null  int64  \n",
            " 4   permanent_country  30912 non-null  object \n",
            " 5   main_industry      30912 non-null  object \n",
            " 6   annual_income      30912 non-null  float64\n",
            " 7   name_cleaned       30912 non-null  object \n",
            "dtypes: float64(1), int64(3), object(4)\n",
            "memory usage: 2.1+ MB\n"
          ]
        }
      ],
      "source": [
        "data.info()"
      ]
    },
    {
      "cell_type": "markdown",
      "metadata": {},
      "source": [
        "# Data eploration - age"
      ]
    },
    {
      "cell_type": "code",
      "execution_count": null,
      "metadata": {},
      "outputs": [
        {
          "data": {
            "image/png": "[encoded data removed]",
            "text/plain": [
              "<Figure size 800x400 with 1 Axes>"
            ]
          },
          "metadata": {},
          "output_type": "display_data"
        }
      ],
      "source": [
        "# how old are the rich?\n",
        "# https://seaborn.pydata.org/generated/seaborn.boxplot.html\n",
        "\n",
        "fig  = plt.figure(figsize=(8,4))\n",
        "\n",
        "sns.boxplot(data=data, x='time', y='age',\n",
        "            notch=True, showcaps=False,\n",
        "            flierprops={\"marker\": \"x\"},    \n",
        "            medianprops={\"color\": \"r\", \"linewidth\": 2},\n",
        "            color=\".8\")\n",
        "\n",
        "plt.xticks(rotation=45)\n",
        "plt.title(\"evolution of age repartition over years\")\n",
        "plt.show()"
      ]
    },
    {
      "cell_type": "code",
      "execution_count": null,
      "metadata": {},
      "outputs": [
        {
          "data": {
            "image/png": "[encoded data removed]",
            "text/plain": [
              "<Figure size 640x480 with 1 Axes>"
            ]
          },
          "metadata": {},
          "output_type": "display_data"
        }
      ],
      "source": [
        "sns.scatterplot(data.groupby('time')['age'].median())\n",
        "sns.scatterplot(data.groupby('time')['annual_income'].std()*1000)\n",
        "plt.legend(['age (années)','richesse (Millions $)'],loc='upper right')\n",
        "plt.title(\"evolution de la mediane de l'age en fonction de l'année\")\n",
        "plt.xticks(data.time.unique(), rotation=45)\n",
        "plt.xlabel(\"année\")\n",
        "plt.ylabel(\"valeur\")\n",
        "plt.show()"
      ]
    },
    {
      "cell_type": "code",
      "execution_count": null,
      "metadata": {},
      "outputs": [
        {
          "data": {
            "text/plain": [
              "False    30912\n",
              "Name: gender, dtype: int64"
            ]
          },
          "metadata": {},
          "output_type": "display_data"
        },
        {
          "data": {
            "text/plain": [
              "M      25208\n",
              "F       2893\n",
              "M;F     2811\n",
              "Name: gender, dtype: int64"
            ]
          },
          "metadata": {},
          "output_type": "display_data"
        }
      ],
      "source": [
        "display(data.gender.isnull().value_counts())\n",
        "display(data.gender.value_counts())\n",
        "# make gender data a numeric\n",
        "data['gender_num'] = data.gender.apply(lambda x: 0 if x == 'M' else 1 if x == 'F' else 2 )"
      ]
    },
    {
      "cell_type": "code",
      "execution_count": null,
      "metadata": {},
      "outputs": [
        {
          "name": "stdout",
          "output_type": "stream",
          "text": [
            "<class 'pandas.core.frame.DataFrame'>\n",
            "Int64Index: 30912 entries, 0 to 352352\n",
            "Data columns (total 9 columns):\n",
            " #   Column             Non-Null Count  Dtype  \n",
            "---  ------             --------------  -----  \n",
            " 0   Unnamed: 0         30912 non-null  int64  \n",
            " 1   age                30912 non-null  int64  \n",
            " 2   gender             30912 non-null  object \n",
            " 3   time               30912 non-null  int64  \n",
            " 4   permanent_country  30912 non-null  object \n",
            " 5   main_industry      30912 non-null  object \n",
            " 6   annual_income      30912 non-null  float64\n",
            " 7   name_cleaned       30912 non-null  object \n",
            " 8   gender_num         30912 non-null  int64  \n",
            "dtypes: float64(1), int64(4), object(4)\n",
            "memory usage: 2.4+ MB\n"
          ]
        }
      ],
      "source": [
        "data.info()"
      ]
    },
    {
      "cell_type": "code",
      "execution_count": null,
      "metadata": {},
      "outputs": [
        {
          "data": {
            "text/plain": [
              "<Axes: >"
            ]
          },
          "execution_count": 33,
          "metadata": {},
          "output_type": "execute_result"
        },
        {
          "data": {
            "image/png": "[encoded data removed]",
            "text/plain": [
              "<Figure size 640x480 with 2 Axes>"
            ]
          },
          "metadata": {},
          "output_type": "display_data"
        }
      ],
      "source": [
        "sns.heatmap(data.corr())"
      ]
    },
    {
      "cell_type": "code",
      "execution_count": null,
      "metadata": {},
      "outputs": [
        {
          "data": {
            "text/plain": [
              "permanent_country\n",
              "United States    9334\n",
              "China            6534\n",
              "nan              5141\n",
              "Germany          1381\n",
              "Switzerland       859\n",
              "Name: gender_num, dtype: int64"
            ]
          },
          "metadata": {},
          "output_type": "display_data"
        },
        {
          "name": "stdout",
          "output_type": "stream",
          "text": [
            "Il y a 17% de valeurs nulles\n"
          ]
        }
      ],
      "source": [
        "to_use = data.groupby('permanent_country')['gender_num'].count().sort_values(ascending=False)\n",
        "display(to_use[:5])\n",
        "prop_ = to_use[2]/to_use.sum()\n",
        "print(f\"Il y a {round(prop_*100)}% de valeurs nulles\")"
      ]
    },
    {
      "cell_type": "code",
      "execution_count": null,
      "metadata": {},
      "outputs": [],
      "source": []
    },
    {
      "cell_type": "code",
      "execution_count": null,
      "metadata": {},
      "outputs": [
        {
          "data": {
            "text/plain": [
              "False"
            ]
          },
          "execution_count": 14,
          "metadata": {},
          "output_type": "execute_result"
        }
      ],
      "source": [
        "data.age.sum() == False"
      ]
    },
    {
      "cell_type": "code",
      "execution_count": null,
      "metadata": {},
      "outputs": [
        {
          "ename": "AttributeError",
          "evalue": "'Series' object has no attribute 'sort'",
          "output_type": "error",
          "traceback": [
            "\u001b[0;31m---------------------------------------------------------------------------\u001b[0m",
            "\u001b[0;31mAttributeError\u001b[0m                            Traceback (most recent call last)",
            "\u001b[0;32m/var/folders/dv/gzhyqctn53s9bh23g7tbvl940000gn/T/ipykernel_15727/740393656.py\u001b[0m in \u001b[0;36m<module>\u001b[0;34m\u001b[0m\n\u001b[0;32m----> 1\u001b[0;31m \u001b[0msns\u001b[0m\u001b[0;34m.\u001b[0m\u001b[0mdisplot\u001b[0m\u001b[0;34m(\u001b[0m\u001b[0mdata\u001b[0m\u001b[0;34m.\u001b[0m\u001b[0mpermanent_country\u001b[0m\u001b[0;34m.\u001b[0m\u001b[0msort\u001b[0m\u001b[0;34m(\u001b[0m\u001b[0;34m)\u001b[0m\u001b[0;34m)\u001b[0m\u001b[0;34m\u001b[0m\u001b[0;34m\u001b[0m\u001b[0m\n\u001b[0m",
            "\u001b[0;32m/Applications/anaconda3/lib/python3.9/site-packages/pandas/core/generic.py\u001b[0m in \u001b[0;36m__getattr__\u001b[0;34m(self, name)\u001b[0m\n\u001b[1;32m   5573\u001b[0m         ):\n\u001b[1;32m   5574\u001b[0m             \u001b[0;32mreturn\u001b[0m \u001b[0mself\u001b[0m\u001b[0;34m[\u001b[0m\u001b[0mname\u001b[0m\u001b[0;34m]\u001b[0m\u001b[0;34m\u001b[0m\u001b[0;34m\u001b[0m\u001b[0m\n\u001b[0;32m-> 5575\u001b[0;31m         \u001b[0;32mreturn\u001b[0m \u001b[0mobject\u001b[0m\u001b[0;34m.\u001b[0m\u001b[0m__getattribute__\u001b[0m\u001b[0;34m(\u001b[0m\u001b[0mself\u001b[0m\u001b[0;34m,\u001b[0m \u001b[0mname\u001b[0m\u001b[0;34m)\u001b[0m\u001b[0;34m\u001b[0m\u001b[0;34m\u001b[0m\u001b[0m\n\u001b[0m\u001b[1;32m   5576\u001b[0m \u001b[0;34m\u001b[0m\u001b[0m\n\u001b[1;32m   5577\u001b[0m     \u001b[0;32mdef\u001b[0m \u001b[0m__setattr__\u001b[0m\u001b[0;34m(\u001b[0m\u001b[0mself\u001b[0m\u001b[0;34m,\u001b[0m \u001b[0mname\u001b[0m\u001b[0;34m:\u001b[0m \u001b[0mstr\u001b[0m\u001b[0;34m,\u001b[0m \u001b[0mvalue\u001b[0m\u001b[0;34m)\u001b[0m \u001b[0;34m->\u001b[0m \u001b[0;32mNone\u001b[0m\u001b[0;34m:\u001b[0m\u001b[0;34m\u001b[0m\u001b[0;34m\u001b[0m\u001b[0m\n",
            "\u001b[0;31mAttributeError\u001b[0m: 'Series' object has no attribute 'sort'"
          ]
        }
      ],
      "source": [
        "sns.displot(data.permanent_country.sort())\n"
      ]
    },
    {
      "cell_type": "code",
      "execution_count": null,
      "metadata": {},
      "outputs": [
        {
          "name": "stdout",
          "output_type": "stream",
          "text": [
            "<class 'pandas.core.frame.DataFrame'>\n",
            "Int64Index: 30912 entries, 0 to 352352\n",
            "Data columns (total 8 columns):\n",
            " #   Column             Non-Null Count  Dtype  \n",
            "---  ------             --------------  -----  \n",
            " 0   Unnamed: 0         30912 non-null  int64  \n",
            " 1   age                30912 non-null  int64  \n",
            " 2   gender             30912 non-null  int64  \n",
            " 3   time               30912 non-null  int64  \n",
            " 4   permanent_country  30912 non-null  object \n",
            " 5   main_industry      30912 non-null  object \n",
            " 6   annual_income      30912 non-null  float64\n",
            " 7   name_cleaned       30912 non-null  object \n",
            "dtypes: float64(1), int64(4), object(3)\n",
            "memory usage: 2.1+ MB\n"
          ]
        }
      ],
      "source": [
        "data.info()"
      ]
    },
    {
      "cell_type": "code",
      "execution_count": null,
      "metadata": {},
      "outputs": [
        {
          "data": {
            "text/html": [
              "<div>\n",
              "<style scoped>\n",
              "    .dataframe tbody tr th:only-of-type {\n",
              "        vertical-align: middle;\n",
              "    }\n",
              "\n",
              "    .dataframe tbody tr th {\n",
              "        vertical-align: top;\n",
              "    }\n",
              "\n",
              "    .dataframe thead th {\n",
              "        text-align: right;\n",
              "    }\n",
              "</style>\n",
              "<table border=\"1\" class=\"dataframe\">\n",
              "  <thead>\n",
              "    <tr style=\"text-align: right;\">\n",
              "      <th></th>\n",
              "      <th>name_cleaned</th>\n",
              "      <th>time</th>\n",
              "      <th>annual_income</th>\n",
              "    </tr>\n",
              "  </thead>\n",
              "  <tbody>\n",
              "    <tr>\n",
              "      <th>38707</th>\n",
              "      <td>Bernard_arnault</td>\n",
              "      <td>2007</td>\n",
              "      <td>0.886860</td>\n",
              "    </tr>\n",
              "    <tr>\n",
              "      <th>299932</th>\n",
              "      <td>Steve_ballmer</td>\n",
              "      <td>2009</td>\n",
              "      <td>0.363660</td>\n",
              "    </tr>\n",
              "    <tr>\n",
              "      <th>183901</th>\n",
              "      <td>Larry_page</td>\n",
              "      <td>2006</td>\n",
              "      <td>0.438528</td>\n",
              "    </tr>\n",
              "  </tbody>\n",
              "</table>\n",
              "</div>"
            ],
            "text/plain": [
              "           name_cleaned  time  annual_income\n",
              "38707   Bernard_arnault  2007       0.886860\n",
              "299932    Steve_ballmer  2009       0.363660\n",
              "183901       Larry_page  2006       0.438528"
            ]
          },
          "metadata": {},
          "output_type": "display_data"
        }
      ],
      "source": [
        "# who are the richest in the last year?\n",
        "\n",
        "rich_2022 = data.loc[data.time == 2022, ['name_cleaned','annual_income']]\n",
        "rich_2022 = rich_2022.sort_values(by='annual_income', ascending=False)[:10]\n",
        "rich_2022 = rich_2022.name_cleaned.values\n",
        "\n",
        "to_plot = data.loc[data.name_cleaned.isin(rich_2022)]  # only 10 richest of 2022\n",
        "display(to_plot[['name_cleaned','time','annual_income']].sample(3))"
      ]
    },
    {
      "cell_type": "code",
      "execution_count": null,
      "metadata": {},
      "outputs": [
        {
          "data": {
            "image/png": "[encoded data removed]",
            "text/plain": [
              "<Figure size 800x400 with 1 Axes>"
            ]
          },
          "metadata": {},
          "output_type": "display_data"
        }
      ],
      "source": [
        "# how did their wealth evolve ?\n",
        "\n",
        "fig = plt.figure(figsize=(8,4))\n",
        "ax = sns.lineplot(data=to_plot, x='time', y='annual_income', hue='name_cleaned')\n",
        "ax.axvline(2012, color=\".1\", dashes=(2, 4))\n",
        "ax.axvline(2020, color=\"r\", dashes=(4, 2))\n",
        "\n",
        "plt.title(\"evolution de la richesse des 10 plus grandes fortunes de 2022\")\n",
        "plt.xticks(ticks=data.time.unique(), labels = data.time.unique(), rotation=45)\n",
        "plt.show()"
      ]
    },
    {
      "cell_type": "markdown",
      "metadata": {},
      "source": [
        "# Data cleaning 2"
      ]
    },
    {
      "cell_type": "code",
      "execution_count": null,
      "metadata": {},
      "outputs": [
        {
          "name": "stdout",
          "output_type": "stream",
          "text": [
            "<class 'pandas.core.frame.DataFrame'>\n",
            "RangeIndex: 2095 entries, 0 to 2094\n",
            "Data columns (total 7 columns):\n",
            " #   Column             Non-Null Count  Dtype  \n",
            "---  ------             --------------  -----  \n",
            " 0   Rank               2095 non-null   int64  \n",
            " 1   Name               2095 non-null   object \n",
            " 2   Net Worth          2095 non-null   object \n",
            " 3   Age                2052 non-null   float64\n",
            " 4   Country/Territory  2095 non-null   object \n",
            " 5   Source             2095 non-null   object \n",
            " 6   Industries         2095 non-null   object \n",
            "dtypes: float64(1), int64(1), object(5)\n",
            "memory usage: 114.7+ KB\n"
          ]
        }
      ],
      "source": [
        "# ouvre les autres fichiers\n",
        "data_2023 = pd.read_csv(\"Data/Billionaires Statistics Dataset.csv\")\n",
        "data_2022 = pd.read_csv(\"Data/2022_forbes_billionaires.csv\")\n",
        "data_2021 = pd.read_csv(\"Data/Billionaire2021.csv\")\n",
        "data_2020 = pd.read_csv(\"Data/Forbes_Billionaires2020.csv\")\n",
        "data_2020.info()"
      ]
    },
    {
      "cell_type": "code",
      "execution_count": null,
      "metadata": {
        "id": "U_6FMik39cN7"
      },
      "outputs": [
        {
          "name": "stdout",
          "output_type": "stream",
          "text": [
            "<class 'pandas.core.frame.DataFrame'>\n",
            "RangeIndex: 2095 entries, 0 to 2094\n",
            "Data columns (total 2 columns):\n",
            " #   Column      Non-Null Count  Dtype \n",
            "---  ------      --------------  ----- \n",
            " 0   personName  2095 non-null   object\n",
            " 1   Net Worth   2095 non-null   object\n",
            "dtypes: object(2)\n",
            "memory usage: 32.9+ KB\n"
          ]
        }
      ],
      "source": [
        "# reduce dataset size and change name columns for merge\n",
        "data_2020 = data_2020[['Name','Net Worth']].rename(columns={'Name': 'personName'})\n",
        "data_2021 = data_2021[['Name','NetWorth']].rename(columns={'Name': 'personName'})\n",
        "data_2022 = data_2022[['name','networth']].rename(columns={'name': 'personName'})"
      ]
    },
    {
      "cell_type": "code",
      "execution_count": null,
      "metadata": {
        "id": "n4ggG1Wy-t4N"
      },
      "outputs": [],
      "source": [
        "# process columns for name\n",
        "def process_name(x):\n",
        "  return x.capitalize()\n",
        "data_2023.personName = data_2023.personName.apply(process_name)\n",
        "data_2022.personName = data_2022.personName.apply(process_name)\n",
        "data_2022.personName = data_2022.personName.apply(lambda x: x.strip())\n",
        "data_2021.personName = data_2021.personName.apply(process_name)\n",
        "data_2020.personName = data_2020.personName.apply(process_name)"
      ]
    },
    {
      "cell_type": "code",
      "execution_count": null,
      "metadata": {
        "id": "eG17ydzFKp9G"
      },
      "outputs": [],
      "source": [
        "# process columns for wealth\n",
        "def process_worth(x):\n",
        "  return float(x[1:].replace('B',''))\n",
        "data_2020['Net Worth'] = data_2020['Net Worth'].apply(process_worth)\n",
        "data_2021.NetWorth = data_2021.NetWorth.apply(process_worth)\n",
        "data_2022.networth = data_2022.networth.apply(process_worth)\n",
        "data_2023.finalWorth = data_2023.finalWorth/1000"
      ]
    },
    {
      "cell_type": "code",
      "execution_count": null,
      "metadata": {
        "colab": {
          "base_uri": "https://localhost:8080/",
          "height": 424
        },
        "id": "f4NO8m0m-3fl",
        "outputId": "66d74d23-ffbc-4f7a-b21a-3f80659873e7"
      },
      "outputs": [],
      "source": [
        "e = data_2023[['personName','finalWorth']].merge(data_2022, on=['personName'], how='left')\\\n",
        "                                                  .merge(data_2021, on=['personName'], how='left')\\\n",
        "                                                  .merge(data_2020, on=['personName'], how='left')\n",
        "\n",
        "e.columns=['nom','2023','2022','2021','2020']\n"
      ]
    },
    {
      "cell_type": "code",
      "execution_count": null,
      "metadata": {},
      "outputs": [
        {
          "data": {
            "text/plain": [
              "Index(['2023', '2022', '2021', '2020'], dtype='object')"
            ]
          },
          "execution_count": 244,
          "metadata": {},
          "output_type": "execute_result"
        }
      ],
      "source": [
        "x = [int(a) for a in e.columns[1:]]\n"
      ]
    },
    {
      "cell_type": "code",
      "execution_count": null,
      "metadata": {},
      "outputs": [
        {
          "data": {
            "text/plain": [
              "array(['Bernard arnault & family', 'Elon musk', 'Jeff bezos',\n",
              "       'Larry ellison', 'Warren buffett', 'Bill gates',\n",
              "       'Michael bloomberg', 'Carlos slim helu & family', 'Mukesh ambani',\n",
              "       'Steve ballmer'], dtype=object)"
            ]
          },
          "execution_count": 264,
          "metadata": {},
          "output_type": "execute_result"
        }
      ],
      "source": [
        "most_10_wealth"
      ]
    },
    {
      "cell_type": "code",
      "execution_count": null,
      "metadata": {
        "colab": {
          "base_uri": "https://localhost:8080/",
          "height": 443
        },
        "id": "jDfaQ9nLyhU0",
        "outputId": "5ad76793-9ee9-4ebf-e5e1-3c77bb64fdf4"
      },
      "outputs": [
        {
          "data": {
            "image/png": "[encoded data removed]",
            "text/plain": [
              "<Figure size 640x480 with 1 Axes>"
            ]
          },
          "metadata": {},
          "output_type": "display_data"
        }
      ],
      "source": [
        "most_10_wealth = data_2023.sort_values(by='finalWorth', ascending=False)['personName'][:10].values\n",
        "e.loc[e.nom.isin(most_10_wealth)].plot.bar(label=most_10_wealth)\n",
        "plt.show()"
      ]
    },
    {
      "cell_type": "markdown",
      "metadata": {
        "id": "qfyYTUyA-J4C"
      },
      "source": [
        "# Analyse préliminaire"
      ]
    },
    {
      "cell_type": "code",
      "execution_count": null,
      "metadata": {
        "colab": {
          "base_uri": "https://localhost:8080/",
          "height": 370
        },
        "id": "FsVNpG-E-_AF",
        "outputId": "95306248-bad3-461c-e0c1-1ae9bec6adc8"
      },
      "outputs": [
        {
          "ename": "KeyError",
          "evalue": "'country'",
          "output_type": "error",
          "traceback": [
            "\u001b[0;31m---------------------------------------------------------------------------\u001b[0m",
            "\u001b[0;31mKeyError\u001b[0m                                  Traceback (most recent call last)",
            "\u001b[0;32m/var/folders/dv/gzhyqctn53s9bh23g7tbvl940000gn/T/ipykernel_10104/1568529517.py\u001b[0m in \u001b[0;36m<module>\u001b[0;34m\u001b[0m\n\u001b[1;32m      1\u001b[0m \u001b[0mdata_2023\u001b[0m\u001b[0;34m.\u001b[0m\u001b[0mgdp_country\u001b[0m\u001b[0;34m\u001b[0m\u001b[0;34m\u001b[0m\u001b[0m\n\u001b[0;32m----> 2\u001b[0;31m \u001b[0mdata\u001b[0m\u001b[0;34m.\u001b[0m\u001b[0mgroupby\u001b[0m\u001b[0;34m(\u001b[0m\u001b[0;34m'country'\u001b[0m\u001b[0;34m)\u001b[0m\u001b[0;34m[\u001b[0m\u001b[0;34m'finalWorth'\u001b[0m\u001b[0;34m,\u001b[0m\u001b[0;34m'gdp_country'\u001b[0m\u001b[0;34m]\u001b[0m\u001b[0;34m.\u001b[0m\u001b[0magg\u001b[0m\u001b[0;34m(\u001b[0m\u001b[0;34m{\u001b[0m\u001b[0;34m'finalWorth'\u001b[0m\u001b[0;34m:\u001b[0m\u001b[0;34m'sum'\u001b[0m\u001b[0;34m,\u001b[0m\u001b[0;34m'gdp_country'\u001b[0m\u001b[0;34m:\u001b[0m\u001b[0;34m'std'\u001b[0m\u001b[0;34m}\u001b[0m\u001b[0;34m)\u001b[0m\u001b[0;34m\u001b[0m\u001b[0;34m\u001b[0m\u001b[0m\n\u001b[0m",
            "\u001b[0;32m/Applications/anaconda3/lib/python3.9/site-packages/pandas/core/frame.py\u001b[0m in \u001b[0;36mgroupby\u001b[0;34m(self, by, axis, level, as_index, sort, group_keys, squeeze, observed, dropna)\u001b[0m\n\u001b[1;32m   7719\u001b[0m         \u001b[0;31m# error: Argument \"squeeze\" to \"DataFrameGroupBy\" has incompatible type\u001b[0m\u001b[0;34m\u001b[0m\u001b[0;34m\u001b[0m\u001b[0m\n\u001b[1;32m   7720\u001b[0m         \u001b[0;31m# \"Union[bool, NoDefault]\"; expected \"bool\"\u001b[0m\u001b[0;34m\u001b[0m\u001b[0;34m\u001b[0m\u001b[0m\n\u001b[0;32m-> 7721\u001b[0;31m         return DataFrameGroupBy(\n\u001b[0m\u001b[1;32m   7722\u001b[0m             \u001b[0mobj\u001b[0m\u001b[0;34m=\u001b[0m\u001b[0mself\u001b[0m\u001b[0;34m,\u001b[0m\u001b[0;34m\u001b[0m\u001b[0;34m\u001b[0m\u001b[0m\n\u001b[1;32m   7723\u001b[0m             \u001b[0mkeys\u001b[0m\u001b[0;34m=\u001b[0m\u001b[0mby\u001b[0m\u001b[0;34m,\u001b[0m\u001b[0;34m\u001b[0m\u001b[0;34m\u001b[0m\u001b[0m\n",
            "\u001b[0;32m/Applications/anaconda3/lib/python3.9/site-packages/pandas/core/groupby/groupby.py\u001b[0m in \u001b[0;36m__init__\u001b[0;34m(self, obj, keys, axis, level, grouper, exclusions, selection, as_index, sort, group_keys, squeeze, observed, mutated, dropna)\u001b[0m\n\u001b[1;32m    880\u001b[0m             \u001b[0;32mfrom\u001b[0m \u001b[0mpandas\u001b[0m\u001b[0;34m.\u001b[0m\u001b[0mcore\u001b[0m\u001b[0;34m.\u001b[0m\u001b[0mgroupby\u001b[0m\u001b[0;34m.\u001b[0m\u001b[0mgrouper\u001b[0m \u001b[0;32mimport\u001b[0m \u001b[0mget_grouper\u001b[0m\u001b[0;34m\u001b[0m\u001b[0;34m\u001b[0m\u001b[0m\n\u001b[1;32m    881\u001b[0m \u001b[0;34m\u001b[0m\u001b[0m\n\u001b[0;32m--> 882\u001b[0;31m             grouper, exclusions, obj = get_grouper(\n\u001b[0m\u001b[1;32m    883\u001b[0m                 \u001b[0mobj\u001b[0m\u001b[0;34m,\u001b[0m\u001b[0;34m\u001b[0m\u001b[0;34m\u001b[0m\u001b[0m\n\u001b[1;32m    884\u001b[0m                 \u001b[0mkeys\u001b[0m\u001b[0;34m,\u001b[0m\u001b[0;34m\u001b[0m\u001b[0;34m\u001b[0m\u001b[0m\n",
            "\u001b[0;32m/Applications/anaconda3/lib/python3.9/site-packages/pandas/core/groupby/grouper.py\u001b[0m in \u001b[0;36mget_grouper\u001b[0;34m(obj, key, axis, level, sort, observed, mutated, validate, dropna)\u001b[0m\n\u001b[1;32m    880\u001b[0m                 \u001b[0min_axis\u001b[0m\u001b[0;34m,\u001b[0m \u001b[0mlevel\u001b[0m\u001b[0;34m,\u001b[0m \u001b[0mgpr\u001b[0m \u001b[0;34m=\u001b[0m \u001b[0;32mFalse\u001b[0m\u001b[0;34m,\u001b[0m \u001b[0mgpr\u001b[0m\u001b[0;34m,\u001b[0m \u001b[0;32mNone\u001b[0m\u001b[0;34m\u001b[0m\u001b[0;34m\u001b[0m\u001b[0m\n\u001b[1;32m    881\u001b[0m             \u001b[0;32melse\u001b[0m\u001b[0;34m:\u001b[0m\u001b[0;34m\u001b[0m\u001b[0;34m\u001b[0m\u001b[0m\n\u001b[0;32m--> 882\u001b[0;31m                 \u001b[0;32mraise\u001b[0m \u001b[0mKeyError\u001b[0m\u001b[0;34m(\u001b[0m\u001b[0mgpr\u001b[0m\u001b[0;34m)\u001b[0m\u001b[0;34m\u001b[0m\u001b[0;34m\u001b[0m\u001b[0m\n\u001b[0m\u001b[1;32m    883\u001b[0m         \u001b[0;32melif\u001b[0m \u001b[0misinstance\u001b[0m\u001b[0;34m(\u001b[0m\u001b[0mgpr\u001b[0m\u001b[0;34m,\u001b[0m \u001b[0mGrouper\u001b[0m\u001b[0;34m)\u001b[0m \u001b[0;32mand\u001b[0m \u001b[0mgpr\u001b[0m\u001b[0;34m.\u001b[0m\u001b[0mkey\u001b[0m \u001b[0;32mis\u001b[0m \u001b[0;32mnot\u001b[0m \u001b[0;32mNone\u001b[0m\u001b[0;34m:\u001b[0m\u001b[0;34m\u001b[0m\u001b[0;34m\u001b[0m\u001b[0m\n\u001b[1;32m    884\u001b[0m             \u001b[0;31m# Add key to exclusions\u001b[0m\u001b[0;34m\u001b[0m\u001b[0;34m\u001b[0m\u001b[0m\n",
            "\u001b[0;31mKeyError\u001b[0m: 'country'"
          ]
        }
      ],
      "source": [
        "data_2023.gdp_country\n",
        "data.groupby('country')['finalWorth','gdp_country'].agg({'finalWorth':'sum','gdp_country':'std'})"
      ]
    },
    {
      "cell_type": "code",
      "execution_count": null,
      "metadata": {
        "colab": {
          "base_uri": "https://localhost:8080/"
        },
        "id": "afPVAJ-1vR0J",
        "outputId": "0cbfb935-9048-4621-bffb-119e24fe85d5"
      },
      "outputs": [
        {
          "ename": "KeyError",
          "evalue": "'firstName'",
          "output_type": "error",
          "traceback": [
            "\u001b[0;31m---------------------------------------------------------------------------\u001b[0m",
            "\u001b[0;31mKeyError\u001b[0m                                  Traceback (most recent call last)",
            "\u001b[0;32m/var/folders/dv/gzhyqctn53s9bh23g7tbvl940000gn/T/ipykernel_10104/1768757674.py\u001b[0m in \u001b[0;36m<module>\u001b[0;34m\u001b[0m\n\u001b[0;32m----> 1\u001b[0;31m \u001b[0mdata\u001b[0m\u001b[0;34m.\u001b[0m\u001b[0mgroupby\u001b[0m\u001b[0;34m(\u001b[0m\u001b[0;34m'firstName'\u001b[0m\u001b[0;34m)\u001b[0m\u001b[0;34m[\u001b[0m\u001b[0;34m'firstName'\u001b[0m\u001b[0;34m]\u001b[0m\u001b[0;34m.\u001b[0m\u001b[0mvalue_counts\u001b[0m\u001b[0;34m(\u001b[0m\u001b[0;34m)\u001b[0m\u001b[0;34m.\u001b[0m\u001b[0msort_values\u001b[0m\u001b[0;34m(\u001b[0m\u001b[0;34m)\u001b[0m\u001b[0;34m\u001b[0m\u001b[0;34m\u001b[0m\u001b[0m\n\u001b[0m",
            "\u001b[0;32m/Applications/anaconda3/lib/python3.9/site-packages/pandas/core/frame.py\u001b[0m in \u001b[0;36mgroupby\u001b[0;34m(self, by, axis, level, as_index, sort, group_keys, squeeze, observed, dropna)\u001b[0m\n\u001b[1;32m   7719\u001b[0m         \u001b[0;31m# error: Argument \"squeeze\" to \"DataFrameGroupBy\" has incompatible type\u001b[0m\u001b[0;34m\u001b[0m\u001b[0;34m\u001b[0m\u001b[0m\n\u001b[1;32m   7720\u001b[0m         \u001b[0;31m# \"Union[bool, NoDefault]\"; expected \"bool\"\u001b[0m\u001b[0;34m\u001b[0m\u001b[0;34m\u001b[0m\u001b[0m\n\u001b[0;32m-> 7721\u001b[0;31m         return DataFrameGroupBy(\n\u001b[0m\u001b[1;32m   7722\u001b[0m             \u001b[0mobj\u001b[0m\u001b[0;34m=\u001b[0m\u001b[0mself\u001b[0m\u001b[0;34m,\u001b[0m\u001b[0;34m\u001b[0m\u001b[0;34m\u001b[0m\u001b[0m\n\u001b[1;32m   7723\u001b[0m             \u001b[0mkeys\u001b[0m\u001b[0;34m=\u001b[0m\u001b[0mby\u001b[0m\u001b[0;34m,\u001b[0m\u001b[0;34m\u001b[0m\u001b[0;34m\u001b[0m\u001b[0m\n",
            "\u001b[0;32m/Applications/anaconda3/lib/python3.9/site-packages/pandas/core/groupby/groupby.py\u001b[0m in \u001b[0;36m__init__\u001b[0;34m(self, obj, keys, axis, level, grouper, exclusions, selection, as_index, sort, group_keys, squeeze, observed, mutated, dropna)\u001b[0m\n\u001b[1;32m    880\u001b[0m             \u001b[0;32mfrom\u001b[0m \u001b[0mpandas\u001b[0m\u001b[0;34m.\u001b[0m\u001b[0mcore\u001b[0m\u001b[0;34m.\u001b[0m\u001b[0mgroupby\u001b[0m\u001b[0;34m.\u001b[0m\u001b[0mgrouper\u001b[0m \u001b[0;32mimport\u001b[0m \u001b[0mget_grouper\u001b[0m\u001b[0;34m\u001b[0m\u001b[0;34m\u001b[0m\u001b[0m\n\u001b[1;32m    881\u001b[0m \u001b[0;34m\u001b[0m\u001b[0m\n\u001b[0;32m--> 882\u001b[0;31m             grouper, exclusions, obj = get_grouper(\n\u001b[0m\u001b[1;32m    883\u001b[0m                 \u001b[0mobj\u001b[0m\u001b[0;34m,\u001b[0m\u001b[0;34m\u001b[0m\u001b[0;34m\u001b[0m\u001b[0m\n\u001b[1;32m    884\u001b[0m                 \u001b[0mkeys\u001b[0m\u001b[0;34m,\u001b[0m\u001b[0;34m\u001b[0m\u001b[0;34m\u001b[0m\u001b[0m\n",
            "\u001b[0;32m/Applications/anaconda3/lib/python3.9/site-packages/pandas/core/groupby/grouper.py\u001b[0m in \u001b[0;36mget_grouper\u001b[0;34m(obj, key, axis, level, sort, observed, mutated, validate, dropna)\u001b[0m\n\u001b[1;32m    880\u001b[0m                 \u001b[0min_axis\u001b[0m\u001b[0;34m,\u001b[0m \u001b[0mlevel\u001b[0m\u001b[0;34m,\u001b[0m \u001b[0mgpr\u001b[0m \u001b[0;34m=\u001b[0m \u001b[0;32mFalse\u001b[0m\u001b[0;34m,\u001b[0m \u001b[0mgpr\u001b[0m\u001b[0;34m,\u001b[0m \u001b[0;32mNone\u001b[0m\u001b[0;34m\u001b[0m\u001b[0;34m\u001b[0m\u001b[0m\n\u001b[1;32m    881\u001b[0m             \u001b[0;32melse\u001b[0m\u001b[0;34m:\u001b[0m\u001b[0;34m\u001b[0m\u001b[0;34m\u001b[0m\u001b[0m\n\u001b[0;32m--> 882\u001b[0;31m                 \u001b[0;32mraise\u001b[0m \u001b[0mKeyError\u001b[0m\u001b[0;34m(\u001b[0m\u001b[0mgpr\u001b[0m\u001b[0;34m)\u001b[0m\u001b[0;34m\u001b[0m\u001b[0;34m\u001b[0m\u001b[0m\n\u001b[0m\u001b[1;32m    883\u001b[0m         \u001b[0;32melif\u001b[0m \u001b[0misinstance\u001b[0m\u001b[0;34m(\u001b[0m\u001b[0mgpr\u001b[0m\u001b[0;34m,\u001b[0m \u001b[0mGrouper\u001b[0m\u001b[0;34m)\u001b[0m \u001b[0;32mand\u001b[0m \u001b[0mgpr\u001b[0m\u001b[0;34m.\u001b[0m\u001b[0mkey\u001b[0m \u001b[0;32mis\u001b[0m \u001b[0;32mnot\u001b[0m \u001b[0;32mNone\u001b[0m\u001b[0;34m:\u001b[0m\u001b[0;34m\u001b[0m\u001b[0;34m\u001b[0m\u001b[0m\n\u001b[1;32m    884\u001b[0m             \u001b[0;31m# Add key to exclusions\u001b[0m\u001b[0;34m\u001b[0m\u001b[0;34m\u001b[0m\u001b[0m\n",
            "\u001b[0;31mKeyError\u001b[0m: 'firstName'"
          ]
        }
      ],
      "source": [
        "data.groupby('firstName')['firstName'].value_counts().sort_values()"
      ]
    },
    {
      "cell_type": "code",
      "execution_count": null,
      "metadata": {
        "id": "LzWcCNzsvlbo"
      },
      "outputs": [],
      "source": [
        "def tranche_age(age):\n",
        "  if age <= 30:\n",
        "    return '- 30'\n",
        "  elif age <= 40:\n",
        "    return '30-40'\n",
        "  elif age <= 50:\n",
        "    return '40-50'\n",
        "  elif age <= 60:\n",
        "    return '50-60'\n",
        "  elif age <= 70:\n",
        "    return '60-70'\n",
        "  elif age <= 80:\n",
        "    return '70-80'\n",
        "  else:\n",
        "    return '80 +'\n",
        "\n",
        "data['tranche_age'] = data.age.apply(lambda x: tranche_age(x))"
      ]
    },
    {
      "cell_type": "code",
      "execution_count": null,
      "metadata": {
        "colab": {
          "base_uri": "https://localhost:8080/",
          "height": 359
        },
        "id": "IYsSmn-_zusK",
        "outputId": "6b7e9dc7-4214-4d82-b2a8-abe1380aa086"
      },
      "outputs": [
        {
          "ename": "KeyError",
          "evalue": "'Column not found: finalWorth'",
          "output_type": "error",
          "traceback": [
            "\u001b[0;31m---------------------------------------------------------------------------\u001b[0m",
            "\u001b[0;31mKeyError\u001b[0m                                  Traceback (most recent call last)",
            "\u001b[0;32m/var/folders/dv/gzhyqctn53s9bh23g7tbvl940000gn/T/ipykernel_10104/3060424689.py\u001b[0m in \u001b[0;36m<module>\u001b[0;34m\u001b[0m\n\u001b[0;32m----> 1\u001b[0;31m \u001b[0mdata\u001b[0m\u001b[0;34m.\u001b[0m\u001b[0mgroupby\u001b[0m\u001b[0;34m(\u001b[0m\u001b[0;34m'tranche_age'\u001b[0m\u001b[0;34m)\u001b[0m\u001b[0;34m[\u001b[0m\u001b[0;34m'finalWorth'\u001b[0m\u001b[0;34m]\u001b[0m\u001b[0;34m.\u001b[0m\u001b[0magg\u001b[0m\u001b[0;34m(\u001b[0m\u001b[0;34m[\u001b[0m\u001b[0;34m'mean'\u001b[0m\u001b[0;34m,\u001b[0m\u001b[0;34m'count'\u001b[0m\u001b[0;34m]\u001b[0m\u001b[0;34m)\u001b[0m\u001b[0;34m.\u001b[0m\u001b[0mplot\u001b[0m\u001b[0;34m.\u001b[0m\u001b[0mbar\u001b[0m\u001b[0;34m(\u001b[0m\u001b[0mfigsize\u001b[0m\u001b[0;34m=\u001b[0m\u001b[0;34m(\u001b[0m\u001b[0;36m4\u001b[0m\u001b[0;34m,\u001b[0m\u001b[0;36m3\u001b[0m\u001b[0;34m)\u001b[0m\u001b[0;34m)\u001b[0m\u001b[0;34m\u001b[0m\u001b[0;34m\u001b[0m\u001b[0m\n\u001b[0m",
            "\u001b[0;32m/Applications/anaconda3/lib/python3.9/site-packages/pandas/core/groupby/generic.py\u001b[0m in \u001b[0;36m__getitem__\u001b[0;34m(self, key)\u001b[0m\n\u001b[1;32m   1336\u001b[0m                 \u001b[0mstacklevel\u001b[0m\u001b[0;34m=\u001b[0m\u001b[0mfind_stack_level\u001b[0m\u001b[0;34m(\u001b[0m\u001b[0;34m)\u001b[0m\u001b[0;34m,\u001b[0m\u001b[0;34m\u001b[0m\u001b[0;34m\u001b[0m\u001b[0m\n\u001b[1;32m   1337\u001b[0m             )\n\u001b[0;32m-> 1338\u001b[0;31m         \u001b[0;32mreturn\u001b[0m \u001b[0msuper\u001b[0m\u001b[0;34m(\u001b[0m\u001b[0;34m)\u001b[0m\u001b[0;34m.\u001b[0m\u001b[0m__getitem__\u001b[0m\u001b[0;34m(\u001b[0m\u001b[0mkey\u001b[0m\u001b[0;34m)\u001b[0m\u001b[0;34m\u001b[0m\u001b[0;34m\u001b[0m\u001b[0m\n\u001b[0m\u001b[1;32m   1339\u001b[0m \u001b[0;34m\u001b[0m\u001b[0m\n\u001b[1;32m   1340\u001b[0m     \u001b[0;32mdef\u001b[0m \u001b[0m_gotitem\u001b[0m\u001b[0;34m(\u001b[0m\u001b[0mself\u001b[0m\u001b[0;34m,\u001b[0m \u001b[0mkey\u001b[0m\u001b[0;34m,\u001b[0m \u001b[0mndim\u001b[0m\u001b[0;34m:\u001b[0m \u001b[0mint\u001b[0m\u001b[0;34m,\u001b[0m \u001b[0msubset\u001b[0m\u001b[0;34m=\u001b[0m\u001b[0;32mNone\u001b[0m\u001b[0;34m)\u001b[0m\u001b[0;34m:\u001b[0m\u001b[0;34m\u001b[0m\u001b[0;34m\u001b[0m\u001b[0m\n",
            "\u001b[0;32m/Applications/anaconda3/lib/python3.9/site-packages/pandas/core/base.py\u001b[0m in \u001b[0;36m__getitem__\u001b[0;34m(self, key)\u001b[0m\n\u001b[1;32m    248\u001b[0m         \u001b[0;32melse\u001b[0m\u001b[0;34m:\u001b[0m\u001b[0;34m\u001b[0m\u001b[0;34m\u001b[0m\u001b[0m\n\u001b[1;32m    249\u001b[0m             \u001b[0;32mif\u001b[0m \u001b[0mkey\u001b[0m \u001b[0;32mnot\u001b[0m \u001b[0;32min\u001b[0m \u001b[0mself\u001b[0m\u001b[0;34m.\u001b[0m\u001b[0mobj\u001b[0m\u001b[0;34m:\u001b[0m\u001b[0;34m\u001b[0m\u001b[0;34m\u001b[0m\u001b[0m\n\u001b[0;32m--> 250\u001b[0;31m                 \u001b[0;32mraise\u001b[0m \u001b[0mKeyError\u001b[0m\u001b[0;34m(\u001b[0m\u001b[0;34mf\"Column not found: {key}\"\u001b[0m\u001b[0;34m)\u001b[0m\u001b[0;34m\u001b[0m\u001b[0;34m\u001b[0m\u001b[0m\n\u001b[0m\u001b[1;32m    251\u001b[0m             \u001b[0msubset\u001b[0m \u001b[0;34m=\u001b[0m \u001b[0mself\u001b[0m\u001b[0;34m.\u001b[0m\u001b[0mobj\u001b[0m\u001b[0;34m[\u001b[0m\u001b[0mkey\u001b[0m\u001b[0;34m]\u001b[0m\u001b[0;34m\u001b[0m\u001b[0;34m\u001b[0m\u001b[0m\n\u001b[1;32m    252\u001b[0m             \u001b[0mndim\u001b[0m \u001b[0;34m=\u001b[0m \u001b[0msubset\u001b[0m\u001b[0;34m.\u001b[0m\u001b[0mndim\u001b[0m\u001b[0;34m\u001b[0m\u001b[0;34m\u001b[0m\u001b[0m\n",
            "\u001b[0;31mKeyError\u001b[0m: 'Column not found: finalWorth'"
          ]
        }
      ],
      "source": [
        "data.groupby('tranche_age')['finalWorth'].agg(['mean','count']).plot.bar(figsize=(4,3))"
      ]
    },
    {
      "cell_type": "code",
      "execution_count": null,
      "metadata": {
        "colab": {
          "base_uri": "https://localhost:8080/"
        },
        "id": "w-3H8o4_6lyu",
        "outputId": "c56de823-cc95-4d5a-b5e8-be9aa5534ca8"
      },
      "outputs": [
        {
          "data": {
            "text/plain": [
              "tranche_age\n",
              "- 30      15\n",
              "30-40     69\n",
              "40-50    239\n",
              "50-60    678\n",
              "60-70    660\n",
              "70-80    572\n",
              "80 +     404\n",
              "Name: firstName, dtype: int64"
            ]
          },
          "execution_count": 114,
          "metadata": {},
          "output_type": "execute_result"
        }
      ],
      "source": [
        "data.groupby('tranche_age')['firstName'].count()"
      ]
    },
    {
      "cell_type": "code",
      "execution_count": null,
      "metadata": {
        "id": "T2tp1uXBhFaQ"
      },
      "outputs": [],
      "source": [
        "# mettre date et birthdate en format datetime\n",
        "data['birthDate'] = pd.to_datetime(data['birthDate'])\n",
        "data['date'] = pd.to_datetime(data['date'])"
      ]
    },
    {
      "cell_type": "code",
      "execution_count": null,
      "metadata": {
        "colab": {
          "base_uri": "https://localhost:8080/",
          "height": 448
        },
        "id": "NxudDQ2eo-Tx",
        "outputId": "3c73a506-9ad7-4ca0-b418-6e66963890c3"
      },
      "outputs": [
        {
          "data": {
            "text/plain": [
              "<Axes: ylabel='Frequency'>"
            ]
          },
          "execution_count": 89,
          "metadata": {},
          "output_type": "execute_result"
        },
        {
          "data": {
            "image/png": "[encoded data removed]",
            "text/plain": [
              "<Figure size 640x480 with 1 Axes>"
            ]
          },
          "metadata": {},
          "output_type": "display_data"
        }
      ],
      "source": [
        "# changer type de gdp country en numerique\n",
        "data.gdp_country = data.gdp_country.apply(lambda x: str(x).replace(',',''))\n",
        "data.gdp_country = data.gdp_country.apply(lambda x: int(x.replace('nan','0').strip('$')))\n",
        "country_no_gtp = data.loc[data.gdp_country==0, 'country'].unique()     # there are country with gdp not indicated\n",
        "data.loc[data.country.isin(country_no_gtp), 'gdp_country'].plot.hist() # none of these have gdp so we can't"
      ]
    },
    {
      "cell_type": "code",
      "execution_count": null,
      "metadata": {
        "colab": {
          "base_uri": "https://localhost:8080/"
        },
        "id": "EtD-euMg-Nmk",
        "outputId": "38df64ed-d083-42fb-9515-c5644f9a94c7"
      },
      "outputs": [
        {
          "name": "stdout",
          "output_type": "stream",
          "text": [
            "age  \t\t\t=> 65 valeurs nulles\n",
            "country  \t\t\t=> 38 valeurs nulles\n",
            "city  \t\t\t=> 72 valeurs nulles\n",
            "organization  \t\t\t=> 2315 valeurs nulles\n",
            "birthDate  \t\t\t=> 76 valeurs nulles\n",
            "firstName  \t\t\t=> 3 valeurs nulles\n",
            "title  \t\t\t=> 2301 valeurs nulles\n",
            "state  \t\t\t=> 1887 valeurs nulles\n",
            "residenceStateRegion  \t\t\t=> 1893 valeurs nulles\n",
            "birthYear  \t\t\t=> 76 valeurs nulles\n",
            "birthMonth  \t\t\t=> 76 valeurs nulles\n",
            "birthDay  \t\t\t=> 76 valeurs nulles\n",
            "cpi_country  \t\t\t=> 184 valeurs nulles\n",
            "cpi_change_country  \t\t\t=> 184 valeurs nulles\n",
            "gdp_country  \t\t\t=> 164 valeurs nulles\n",
            "gross_tertiary_education_enrollment  \t\t\t=> 182 valeurs nulles\n",
            "gross_primary_education_enrollment_country  \t\t\t=> 181 valeurs nulles\n",
            "life_expectancy_country  \t\t\t=> 182 valeurs nulles\n",
            "tax_revenue_country_country  \t\t\t=> 183 valeurs nulles\n",
            "total_tax_rate_country  \t\t\t=> 182 valeurs nulles\n",
            "population_country  \t\t\t=> 164 valeurs nulles\n",
            "latitude_country  \t\t\t=> 164 valeurs nulles\n",
            "longitude_country  \t\t\t=> 164 valeurs nulles\n"
          ]
        }
      ],
      "source": [
        "for col in data.columns:\n",
        "  if data[col].isnull().sum() > 0:\n",
        "    print(f\"{col}  \\t\\t\\t=> {data[col].isnull().sum()} valeurs nulles\")"
      ]
    },
    {
      "cell_type": "code",
      "execution_count": null,
      "metadata": {
        "colab": {
          "base_uri": "https://localhost:8080/",
          "height": 36
        },
        "id": "OX45XLW8-oUw",
        "outputId": "e0bec907-3f03-4236-dddb-9ee8a61d3b4c"
      },
      "outputs": [
        {
          "data": {
            "application/vnd.google.colaboratory.intrinsic+json": {
              "type": "string"
            },
            "text/plain": [
              "'for a,b in zip(data.age,2023-pd.to_datetime(data.birthDate).dt.year):\\n  if a != b:\\n    print(\"age\",a,\"  calculated\",b)'"
            ]
          },
          "execution_count": 9,
          "metadata": {},
          "output_type": "execute_result"
        }
      ],
      "source": [
        "\"\"\"for a,b in zip(data.age,2023-pd.to_datetime(data.birthDate).dt.year):\n",
        "  if a != b:\n",
        "    print(\"age\",a,\"  calculated\",b)\"\"\""
      ]
    },
    {
      "cell_type": "code",
      "execution_count": null,
      "metadata": {
        "id": "8Fbj0eoKm3S_"
      },
      "outputs": [],
      "source": [
        "data_countries = data.loc[:,data.columns.str.endswith('country')]"
      ]
    },
    {
      "cell_type": "code",
      "execution_count": null,
      "metadata": {
        "colab": {
          "base_uri": "https://localhost:8080/",
          "height": 333
        },
        "id": "zGH_9Jyx0R48",
        "outputId": "3df008c3-b318-4257-ed19-1938faefa3a2"
      },
      "outputs": [
        {
          "ename": "TypeError",
          "evalue": "ignored",
          "output_type": "error",
          "traceback": [
            "\u001b[0;31m---------------------------------------------------------------------------\u001b[0m",
            "\u001b[0;31mTypeError\u001b[0m                                 Traceback (most recent call last)",
            "\u001b[0;32m<ipython-input-10-01d199d0ab60>\u001b[0m in \u001b[0;36m<cell line: 1>\u001b[0;34m()\u001b[0m\n\u001b[0;32m----> 1\u001b[0;31m \u001b[0mdata\u001b[0m\u001b[0;34m.\u001b[0m\u001b[0mloc\u001b[0m\u001b[0;34m[\u001b[0m\u001b[0mdata\u001b[0m\u001b[0;34m.\u001b[0m\u001b[0mtax_revenue_country_country\u001b[0m\u001b[0;34m.\u001b[0m\u001b[0misnull\u001b[0m\u001b[0;34m(\u001b[0m\u001b[0;34m)\u001b[0m\u001b[0;34m,\u001b[0m\u001b[0;34m-\u001b[0m\u001b[0;36m5\u001b[0m\u001b[0;34m:\u001b[0m\u001b[0;34m]\u001b[0m\u001b[0;34m\u001b[0m\u001b[0;34m\u001b[0m\u001b[0m\n\u001b[0m",
            "\u001b[0;32m/usr/local/lib/python3.10/dist-packages/pandas/core/indexing.py\u001b[0m in \u001b[0;36m__getitem__\u001b[0;34m(self, key)\u001b[0m\n\u001b[1;32m   1065\u001b[0m             \u001b[0;32mif\u001b[0m \u001b[0mself\u001b[0m\u001b[0;34m.\u001b[0m\u001b[0m_is_scalar_access\u001b[0m\u001b[0;34m(\u001b[0m\u001b[0mkey\u001b[0m\u001b[0;34m)\u001b[0m\u001b[0;34m:\u001b[0m\u001b[0;34m\u001b[0m\u001b[0;34m\u001b[0m\u001b[0m\n\u001b[1;32m   1066\u001b[0m                 \u001b[0;32mreturn\u001b[0m \u001b[0mself\u001b[0m\u001b[0;34m.\u001b[0m\u001b[0mobj\u001b[0m\u001b[0;34m.\u001b[0m\u001b[0m_get_value\u001b[0m\u001b[0;34m(\u001b[0m\u001b[0;34m*\u001b[0m\u001b[0mkey\u001b[0m\u001b[0;34m,\u001b[0m \u001b[0mtakeable\u001b[0m\u001b[0;34m=\u001b[0m\u001b[0mself\u001b[0m\u001b[0;34m.\u001b[0m\u001b[0m_takeable\u001b[0m\u001b[0;34m)\u001b[0m\u001b[0;34m\u001b[0m\u001b[0;34m\u001b[0m\u001b[0m\n\u001b[0;32m-> 1067\u001b[0;31m             \u001b[0;32mreturn\u001b[0m \u001b[0mself\u001b[0m\u001b[0;34m.\u001b[0m\u001b[0m_getitem_tuple\u001b[0m\u001b[0;34m(\u001b[0m\u001b[0mkey\u001b[0m\u001b[0;34m)\u001b[0m\u001b[0;34m\u001b[0m\u001b[0;34m\u001b[0m\u001b[0m\n\u001b[0m\u001b[1;32m   1068\u001b[0m         \u001b[0;32melse\u001b[0m\u001b[0;34m:\u001b[0m\u001b[0;34m\u001b[0m\u001b[0;34m\u001b[0m\u001b[0m\n\u001b[1;32m   1069\u001b[0m             \u001b[0;31m# we by definition only have the 0th axis\u001b[0m\u001b[0;34m\u001b[0m\u001b[0;34m\u001b[0m\u001b[0m\n",
            "\u001b[0;32m/usr/local/lib/python3.10/dist-packages/pandas/core/indexing.py\u001b[0m in \u001b[0;36m_getitem_tuple\u001b[0;34m(self, tup)\u001b[0m\n\u001b[1;32m   1254\u001b[0m             \u001b[0;32mreturn\u001b[0m \u001b[0mself\u001b[0m\u001b[0;34m.\u001b[0m\u001b[0m_multi_take\u001b[0m\u001b[0;34m(\u001b[0m\u001b[0mtup\u001b[0m\u001b[0;34m)\u001b[0m\u001b[0;34m\u001b[0m\u001b[0;34m\u001b[0m\u001b[0m\n\u001b[1;32m   1255\u001b[0m \u001b[0;34m\u001b[0m\u001b[0m\n\u001b[0;32m-> 1256\u001b[0;31m         \u001b[0;32mreturn\u001b[0m \u001b[0mself\u001b[0m\u001b[0;34m.\u001b[0m\u001b[0m_getitem_tuple_same_dim\u001b[0m\u001b[0;34m(\u001b[0m\u001b[0mtup\u001b[0m\u001b[0;34m)\u001b[0m\u001b[0;34m\u001b[0m\u001b[0;34m\u001b[0m\u001b[0m\n\u001b[0m\u001b[1;32m   1257\u001b[0m \u001b[0;34m\u001b[0m\u001b[0m\n\u001b[1;32m   1258\u001b[0m     \u001b[0;32mdef\u001b[0m \u001b[0m_get_label\u001b[0m\u001b[0;34m(\u001b[0m\u001b[0mself\u001b[0m\u001b[0;34m,\u001b[0m \u001b[0mlabel\u001b[0m\u001b[0;34m,\u001b[0m \u001b[0maxis\u001b[0m\u001b[0;34m:\u001b[0m \u001b[0mint\u001b[0m\u001b[0;34m)\u001b[0m\u001b[0;34m:\u001b[0m\u001b[0;34m\u001b[0m\u001b[0;34m\u001b[0m\u001b[0m\n",
            "\u001b[0;32m/usr/local/lib/python3.10/dist-packages/pandas/core/indexing.py\u001b[0m in \u001b[0;36m_getitem_tuple_same_dim\u001b[0;34m(self, tup)\u001b[0m\n\u001b[1;32m    922\u001b[0m                 \u001b[0;32mcontinue\u001b[0m\u001b[0;34m\u001b[0m\u001b[0;34m\u001b[0m\u001b[0m\n\u001b[1;32m    923\u001b[0m \u001b[0;34m\u001b[0m\u001b[0m\n\u001b[0;32m--> 924\u001b[0;31m             \u001b[0mretval\u001b[0m \u001b[0;34m=\u001b[0m \u001b[0mgetattr\u001b[0m\u001b[0;34m(\u001b[0m\u001b[0mretval\u001b[0m\u001b[0;34m,\u001b[0m \u001b[0mself\u001b[0m\u001b[0;34m.\u001b[0m\u001b[0mname\u001b[0m\u001b[0;34m)\u001b[0m\u001b[0;34m.\u001b[0m\u001b[0m_getitem_axis\u001b[0m\u001b[0;34m(\u001b[0m\u001b[0mkey\u001b[0m\u001b[0;34m,\u001b[0m \u001b[0maxis\u001b[0m\u001b[0;34m=\u001b[0m\u001b[0mi\u001b[0m\u001b[0;34m)\u001b[0m\u001b[0;34m\u001b[0m\u001b[0;34m\u001b[0m\u001b[0m\n\u001b[0m\u001b[1;32m    925\u001b[0m             \u001b[0;31m# We should never have retval.ndim < self.ndim, as that should\u001b[0m\u001b[0;34m\u001b[0m\u001b[0;34m\u001b[0m\u001b[0m\n\u001b[1;32m    926\u001b[0m             \u001b[0;31m#  be handled by the _getitem_lowerdim call above.\u001b[0m\u001b[0;34m\u001b[0m\u001b[0;34m\u001b[0m\u001b[0m\n",
            "\u001b[0;32m/usr/local/lib/python3.10/dist-packages/pandas/core/indexing.py\u001b[0m in \u001b[0;36m_getitem_axis\u001b[0;34m(self, key, axis)\u001b[0m\n\u001b[1;32m   1288\u001b[0m         \u001b[0;32mif\u001b[0m \u001b[0misinstance\u001b[0m\u001b[0;34m(\u001b[0m\u001b[0mkey\u001b[0m\u001b[0;34m,\u001b[0m \u001b[0mslice\u001b[0m\u001b[0;34m)\u001b[0m\u001b[0;34m:\u001b[0m\u001b[0;34m\u001b[0m\u001b[0;34m\u001b[0m\u001b[0m\n\u001b[1;32m   1289\u001b[0m             \u001b[0mself\u001b[0m\u001b[0;34m.\u001b[0m\u001b[0m_validate_key\u001b[0m\u001b[0;34m(\u001b[0m\u001b[0mkey\u001b[0m\u001b[0;34m,\u001b[0m \u001b[0maxis\u001b[0m\u001b[0;34m)\u001b[0m\u001b[0;34m\u001b[0m\u001b[0;34m\u001b[0m\u001b[0m\n\u001b[0;32m-> 1290\u001b[0;31m             \u001b[0;32mreturn\u001b[0m \u001b[0mself\u001b[0m\u001b[0;34m.\u001b[0m\u001b[0m_get_slice_axis\u001b[0m\u001b[0;34m(\u001b[0m\u001b[0mkey\u001b[0m\u001b[0;34m,\u001b[0m \u001b[0maxis\u001b[0m\u001b[0;34m=\u001b[0m\u001b[0maxis\u001b[0m\u001b[0;34m)\u001b[0m\u001b[0;34m\u001b[0m\u001b[0;34m\u001b[0m\u001b[0m\n\u001b[0m\u001b[1;32m   1291\u001b[0m         \u001b[0;32melif\u001b[0m \u001b[0mcom\u001b[0m\u001b[0;34m.\u001b[0m\u001b[0mis_bool_indexer\u001b[0m\u001b[0;34m(\u001b[0m\u001b[0mkey\u001b[0m\u001b[0;34m)\u001b[0m\u001b[0;34m:\u001b[0m\u001b[0;34m\u001b[0m\u001b[0;34m\u001b[0m\u001b[0m\n\u001b[1;32m   1292\u001b[0m             \u001b[0;32mreturn\u001b[0m \u001b[0mself\u001b[0m\u001b[0;34m.\u001b[0m\u001b[0m_getbool_axis\u001b[0m\u001b[0;34m(\u001b[0m\u001b[0mkey\u001b[0m\u001b[0;34m,\u001b[0m \u001b[0maxis\u001b[0m\u001b[0;34m=\u001b[0m\u001b[0maxis\u001b[0m\u001b[0;34m)\u001b[0m\u001b[0;34m\u001b[0m\u001b[0;34m\u001b[0m\u001b[0m\n",
            "\u001b[0;32m/usr/local/lib/python3.10/dist-packages/pandas/core/indexing.py\u001b[0m in \u001b[0;36m_get_slice_axis\u001b[0;34m(self, slice_obj, axis)\u001b[0m\n\u001b[1;32m   1322\u001b[0m \u001b[0;34m\u001b[0m\u001b[0m\n\u001b[1;32m   1323\u001b[0m         \u001b[0mlabels\u001b[0m \u001b[0;34m=\u001b[0m \u001b[0mobj\u001b[0m\u001b[0;34m.\u001b[0m\u001b[0m_get_axis\u001b[0m\u001b[0;34m(\u001b[0m\u001b[0maxis\u001b[0m\u001b[0;34m)\u001b[0m\u001b[0;34m\u001b[0m\u001b[0;34m\u001b[0m\u001b[0m\n\u001b[0;32m-> 1324\u001b[0;31m         \u001b[0mindexer\u001b[0m \u001b[0;34m=\u001b[0m \u001b[0mlabels\u001b[0m\u001b[0;34m.\u001b[0m\u001b[0mslice_indexer\u001b[0m\u001b[0;34m(\u001b[0m\u001b[0mslice_obj\u001b[0m\u001b[0;34m.\u001b[0m\u001b[0mstart\u001b[0m\u001b[0;34m,\u001b[0m \u001b[0mslice_obj\u001b[0m\u001b[0;34m.\u001b[0m\u001b[0mstop\u001b[0m\u001b[0;34m,\u001b[0m \u001b[0mslice_obj\u001b[0m\u001b[0;34m.\u001b[0m\u001b[0mstep\u001b[0m\u001b[0;34m)\u001b[0m\u001b[0;34m\u001b[0m\u001b[0;34m\u001b[0m\u001b[0m\n\u001b[0m\u001b[1;32m   1325\u001b[0m \u001b[0;34m\u001b[0m\u001b[0m\n\u001b[1;32m   1326\u001b[0m         \u001b[0;32mif\u001b[0m \u001b[0misinstance\u001b[0m\u001b[0;34m(\u001b[0m\u001b[0mindexer\u001b[0m\u001b[0;34m,\u001b[0m \u001b[0mslice\u001b[0m\u001b[0;34m)\u001b[0m\u001b[0;34m:\u001b[0m\u001b[0;34m\u001b[0m\u001b[0;34m\u001b[0m\u001b[0m\n",
            "\u001b[0;32m/usr/local/lib/python3.10/dist-packages/pandas/core/indexes/base.py\u001b[0m in \u001b[0;36mslice_indexer\u001b[0;34m(self, start, end, step, kind)\u001b[0m\n\u001b[1;32m   6557\u001b[0m         \u001b[0mself\u001b[0m\u001b[0;34m.\u001b[0m\u001b[0m_deprecated_arg\u001b[0m\u001b[0;34m(\u001b[0m\u001b[0mkind\u001b[0m\u001b[0;34m,\u001b[0m \u001b[0;34m\"kind\"\u001b[0m\u001b[0;34m,\u001b[0m \u001b[0;34m\"slice_indexer\"\u001b[0m\u001b[0;34m)\u001b[0m\u001b[0;34m\u001b[0m\u001b[0;34m\u001b[0m\u001b[0m\n\u001b[1;32m   6558\u001b[0m \u001b[0;34m\u001b[0m\u001b[0m\n\u001b[0;32m-> 6559\u001b[0;31m         \u001b[0mstart_slice\u001b[0m\u001b[0;34m,\u001b[0m \u001b[0mend_slice\u001b[0m \u001b[0;34m=\u001b[0m \u001b[0mself\u001b[0m\u001b[0;34m.\u001b[0m\u001b[0mslice_locs\u001b[0m\u001b[0;34m(\u001b[0m\u001b[0mstart\u001b[0m\u001b[0;34m,\u001b[0m \u001b[0mend\u001b[0m\u001b[0;34m,\u001b[0m \u001b[0mstep\u001b[0m\u001b[0;34m=\u001b[0m\u001b[0mstep\u001b[0m\u001b[0;34m)\u001b[0m\u001b[0;34m\u001b[0m\u001b[0;34m\u001b[0m\u001b[0m\n\u001b[0m\u001b[1;32m   6560\u001b[0m \u001b[0;34m\u001b[0m\u001b[0m\n\u001b[1;32m   6561\u001b[0m         \u001b[0;31m# return a slice\u001b[0m\u001b[0;34m\u001b[0m\u001b[0;34m\u001b[0m\u001b[0m\n",
            "\u001b[0;32m/usr/local/lib/python3.10/dist-packages/pandas/core/indexes/base.py\u001b[0m in \u001b[0;36mslice_locs\u001b[0;34m(self, start, end, step, kind)\u001b[0m\n\u001b[1;32m   6765\u001b[0m         \u001b[0mstart_slice\u001b[0m \u001b[0;34m=\u001b[0m \u001b[0;32mNone\u001b[0m\u001b[0;34m\u001b[0m\u001b[0;34m\u001b[0m\u001b[0m\n\u001b[1;32m   6766\u001b[0m         \u001b[0;32mif\u001b[0m \u001b[0mstart\u001b[0m \u001b[0;32mis\u001b[0m \u001b[0;32mnot\u001b[0m \u001b[0;32mNone\u001b[0m\u001b[0;34m:\u001b[0m\u001b[0;34m\u001b[0m\u001b[0;34m\u001b[0m\u001b[0m\n\u001b[0;32m-> 6767\u001b[0;31m             \u001b[0mstart_slice\u001b[0m \u001b[0;34m=\u001b[0m \u001b[0mself\u001b[0m\u001b[0;34m.\u001b[0m\u001b[0mget_slice_bound\u001b[0m\u001b[0;34m(\u001b[0m\u001b[0mstart\u001b[0m\u001b[0;34m,\u001b[0m \u001b[0;34m\"left\"\u001b[0m\u001b[0;34m)\u001b[0m\u001b[0;34m\u001b[0m\u001b[0;34m\u001b[0m\u001b[0m\n\u001b[0m\u001b[1;32m   6768\u001b[0m         \u001b[0;32mif\u001b[0m \u001b[0mstart_slice\u001b[0m \u001b[0;32mis\u001b[0m \u001b[0;32mNone\u001b[0m\u001b[0;34m:\u001b[0m\u001b[0;34m\u001b[0m\u001b[0;34m\u001b[0m\u001b[0m\n\u001b[1;32m   6769\u001b[0m             \u001b[0mstart_slice\u001b[0m \u001b[0;34m=\u001b[0m \u001b[0;36m0\u001b[0m\u001b[0;34m\u001b[0m\u001b[0;34m\u001b[0m\u001b[0m\n",
            "\u001b[0;32m/usr/local/lib/python3.10/dist-packages/pandas/core/indexes/base.py\u001b[0m in \u001b[0;36mget_slice_bound\u001b[0;34m(self, label, side, kind)\u001b[0m\n\u001b[1;32m   6674\u001b[0m         \u001b[0;31m# For datetime indices label may be a string that has to be converted\u001b[0m\u001b[0;34m\u001b[0m\u001b[0;34m\u001b[0m\u001b[0m\n\u001b[1;32m   6675\u001b[0m         \u001b[0;31m# to datetime boundary according to its resolution.\u001b[0m\u001b[0;34m\u001b[0m\u001b[0;34m\u001b[0m\u001b[0m\n\u001b[0;32m-> 6676\u001b[0;31m         \u001b[0mlabel\u001b[0m \u001b[0;34m=\u001b[0m \u001b[0mself\u001b[0m\u001b[0;34m.\u001b[0m\u001b[0m_maybe_cast_slice_bound\u001b[0m\u001b[0;34m(\u001b[0m\u001b[0mlabel\u001b[0m\u001b[0;34m,\u001b[0m \u001b[0mside\u001b[0m\u001b[0;34m)\u001b[0m\u001b[0;34m\u001b[0m\u001b[0;34m\u001b[0m\u001b[0m\n\u001b[0m\u001b[1;32m   6677\u001b[0m \u001b[0;34m\u001b[0m\u001b[0m\n\u001b[1;32m   6678\u001b[0m         \u001b[0;31m# we need to look up the label\u001b[0m\u001b[0;34m\u001b[0m\u001b[0;34m\u001b[0m\u001b[0m\n",
            "\u001b[0;32m/usr/local/lib/python3.10/dist-packages/pandas/core/indexes/base.py\u001b[0m in \u001b[0;36m_maybe_cast_slice_bound\u001b[0;34m(self, label, side, kind)\u001b[0m\n\u001b[1;32m   6621\u001b[0m         \u001b[0;31m# reject them, if index does not contain label\u001b[0m\u001b[0;34m\u001b[0m\u001b[0;34m\u001b[0m\u001b[0m\n\u001b[1;32m   6622\u001b[0m         \u001b[0;32mif\u001b[0m \u001b[0;34m(\u001b[0m\u001b[0mis_float\u001b[0m\u001b[0;34m(\u001b[0m\u001b[0mlabel\u001b[0m\u001b[0;34m)\u001b[0m \u001b[0;32mor\u001b[0m \u001b[0mis_integer\u001b[0m\u001b[0;34m(\u001b[0m\u001b[0mlabel\u001b[0m\u001b[0;34m)\u001b[0m\u001b[0;34m)\u001b[0m \u001b[0;32mand\u001b[0m \u001b[0mlabel\u001b[0m \u001b[0;32mnot\u001b[0m \u001b[0;32min\u001b[0m \u001b[0mself\u001b[0m\u001b[0;34m:\u001b[0m\u001b[0;34m\u001b[0m\u001b[0;34m\u001b[0m\u001b[0m\n\u001b[0;32m-> 6623\u001b[0;31m             \u001b[0;32mraise\u001b[0m \u001b[0mself\u001b[0m\u001b[0;34m.\u001b[0m\u001b[0m_invalid_indexer\u001b[0m\u001b[0;34m(\u001b[0m\u001b[0;34m\"slice\"\u001b[0m\u001b[0;34m,\u001b[0m \u001b[0mlabel\u001b[0m\u001b[0;34m)\u001b[0m\u001b[0;34m\u001b[0m\u001b[0;34m\u001b[0m\u001b[0m\n\u001b[0m\u001b[1;32m   6624\u001b[0m \u001b[0;34m\u001b[0m\u001b[0m\n\u001b[1;32m   6625\u001b[0m         \u001b[0;32mreturn\u001b[0m \u001b[0mlabel\u001b[0m\u001b[0;34m\u001b[0m\u001b[0;34m\u001b[0m\u001b[0m\n",
            "\u001b[0;31mTypeError\u001b[0m: cannot do slice indexing on Index with these indexers [-5] of type int"
          ]
        }
      ],
      "source": [
        "data.loc[data.tax_revenue_country_country.isnull(),]"
      ]
    },
    {
      "cell_type": "code",
      "execution_count": null,
      "metadata": {
        "id": "qNppiZvguVOj"
      },
      "outputs": [],
      "source": [
        "data.loc[data.age != 2022 - pd.to_datetime(data.birthDate).dt.year, ['age','birthDate']]"
      ]
    },
    {
      "cell_type": "code",
      "execution_count": null,
      "metadata": {
        "colab": {
          "base_uri": "https://localhost:8080/",
          "height": 522
        },
        "id": "wRCtdEXz0cTx",
        "outputId": "63e55d6d-f533-44f2-fbc0-838aeaf7e548"
      },
      "outputs": [
        {
          "data": {
            "image/png": "[encoded data removed]",
            "text/plain": [
              "<Figure size 300x600 with 2 Axes>"
            ]
          },
          "metadata": {},
          "output_type": "display_data"
        }
      ],
      "source": [
        "import matplotlib.pyplot as plt\n",
        "\n",
        "to_plot = data.loc[~data.age.isnull()]         # filtrate out the data with no data\n",
        "fig, ax = plt.subplots(2,1,figsize=(3,6))\n",
        "\n",
        "ax[0].boxplot(to_plot.age, vert=False)\n",
        "ax[1].hist(to_plot.age, bins=20, density=True, color='red')\n",
        "\n",
        "plt.show()"
      ]
    },
    {
      "cell_type": "code",
      "execution_count": null,
      "metadata": {
        "id": "n7v9hKMC4NZ9"
      },
      "outputs": [
        {
          "ename": "NameError",
          "evalue": "name 'plt' is not defined",
          "output_type": "error",
          "traceback": [
            "\u001b[0;31m---------------------------------------------------------------------------\u001b[0m",
            "\u001b[0;31mNameError\u001b[0m                                 Traceback (most recent call last)",
            "\u001b[0;32m/var/folders/dv/gzhyqctn53s9bh23g7tbvl940000gn/T/ipykernel_10104/3227310534.py\u001b[0m in \u001b[0;36m<module>\u001b[0;34m\u001b[0m\n\u001b[1;32m      1\u001b[0m \u001b[0;32mimport\u001b[0m \u001b[0mseaborn\u001b[0m \u001b[0;32mas\u001b[0m \u001b[0msns\u001b[0m\u001b[0;34m\u001b[0m\u001b[0;34m\u001b[0m\u001b[0m\n\u001b[1;32m      2\u001b[0m \u001b[0;34m\u001b[0m\u001b[0m\n\u001b[0;32m----> 3\u001b[0;31m \u001b[0mfig\u001b[0m\u001b[0;34m,\u001b[0m \u001b[0max\u001b[0m \u001b[0;34m=\u001b[0m \u001b[0mplt\u001b[0m\u001b[0;34m.\u001b[0m\u001b[0msubplots\u001b[0m\u001b[0;34m(\u001b[0m\u001b[0;36m2\u001b[0m\u001b[0;34m,\u001b[0m\u001b[0;36m1\u001b[0m\u001b[0;34m,\u001b[0m\u001b[0mfigsize\u001b[0m\u001b[0;34m=\u001b[0m\u001b[0;34m(\u001b[0m\u001b[0;36m3\u001b[0m\u001b[0;34m,\u001b[0m\u001b[0;36m6\u001b[0m\u001b[0;34m)\u001b[0m\u001b[0;34m)\u001b[0m\u001b[0;34m\u001b[0m\u001b[0;34m\u001b[0m\u001b[0m\n\u001b[0m\u001b[1;32m      4\u001b[0m \u001b[0msns\u001b[0m\u001b[0;34m.\u001b[0m\u001b[0mboxplot\u001b[0m\u001b[0;34m(\u001b[0m\u001b[0mx\u001b[0m\u001b[0;34m=\u001b[0m\u001b[0mto_plot\u001b[0m\u001b[0;34m.\u001b[0m\u001b[0mage\u001b[0m\u001b[0;34m,\u001b[0m \u001b[0morient\u001b[0m\u001b[0;34m=\u001b[0m\u001b[0;34m'h'\u001b[0m\u001b[0;34m,\u001b[0m \u001b[0max\u001b[0m\u001b[0;34m=\u001b[0m\u001b[0max\u001b[0m\u001b[0;34m[\u001b[0m\u001b[0;36m0\u001b[0m\u001b[0;34m]\u001b[0m\u001b[0;34m)\u001b[0m\u001b[0;34m\u001b[0m\u001b[0;34m\u001b[0m\u001b[0m\n\u001b[1;32m      5\u001b[0m \u001b[0max\u001b[0m\u001b[0;34m[\u001b[0m\u001b[0;36m0\u001b[0m\u001b[0;34m]\u001b[0m\u001b[0;34m.\u001b[0m\u001b[0mset_title\u001b[0m\u001b[0;34m(\u001b[0m\u001b[0;34m'Box Plot of Age'\u001b[0m\u001b[0;34m)\u001b[0m\u001b[0;34m\u001b[0m\u001b[0;34m\u001b[0m\u001b[0m\n",
            "\u001b[0;31mNameError\u001b[0m: name 'plt' is not defined"
          ]
        }
      ],
      "source": [
        "import seaborn as sns\n",
        "\n",
        "fig, ax = plt.subplots(2,1,figsize=(3,6))\n",
        "sns.boxplot(x=to_plot.age, orient='h', ax=ax[0])\n",
        "ax[0].set_title('Box Plot of Age')\n",
        "ax[0].set_xlabel('Values')\n",
        "\n",
        "# Histogram on the second subplot (ax[1) with blue bars and a red density curve\n",
        "sns.histplot(data=to_plot.age, bins=20, kde=True, color='blue', ax=ax[1])\n",
        "ax[1].set_title('Histogram of Age')\n",
        "ax[1].set_xlabel('Age')\n",
        "ax[1].set_ylabel('Frequency')\n",
        "\n",
        "# Change the color of the density curve to red\n",
        "ax[1].lines[0].set_color('red')\n",
        "\n",
        "plt.show()"
      ]
    },
    {
      "cell_type": "code",
      "execution_count": null,
      "metadata": {
        "id": "Zii5g_BB4Y-J"
      },
      "outputs": [],
      "source": [
        "Q1,Q3 = np.quantile(to_plot.age, [0.25,0.75])\n",
        "IQ = Q3-Q1\n",
        "flyers = Q1-1.5*IQ\n",
        "data.loc[data['age'] <= flyers]"
      ]
    },
    {
      "cell_type": "code",
      "execution_count": null,
      "metadata": {
        "id": "IuoASSWp9k_z"
      },
      "outputs": [],
      "source": [
        "data.describe()"
      ]
    },
    {
      "cell_type": "code",
      "execution_count": null,
      "metadata": {
        "id": "yncXY_GG-uDO"
      },
      "outputs": [],
      "source": [
        "data.country.unique()"
      ]
    },
    {
      "cell_type": "code",
      "execution_count": null,
      "metadata": {
        "id": "B9WvDPwJEi84"
      },
      "outputs": [],
      "source": [
        "to_plot['count'].values[0]"
      ]
    },
    {
      "cell_type": "code",
      "execution_count": null,
      "metadata": {
        "id": "PjMAguIW82r9"
      },
      "outputs": [],
      "source": [
        "# replace missing age value by the\n",
        "data.loc[data.age.isnull() & data.birthDate.isnull(),\"age\"] = data.age.median()\n",
        "\n",
        "to_plot_all = data.groupby('country')['rank','age'].agg(['count','median'])\n",
        "to_plot = to_plot_all.age\n",
        "\n",
        "#colors = ['red' if median_value > threshold else 'blue' for median_value in sorted_data]\n",
        "\n",
        "colors = ['green' if val == 35 else 'red' if val > 50 else 'blue' for val in to_plot['count'].values]\n",
        "\n",
        "\n",
        "\n",
        "\n",
        "to_plot['median'].sort_values(ascending=False).plot.barh(title='Age median par pays',\n",
        "                                                         color=colors,\n",
        "                                                         figsize=(3,12))\n",
        "labels_ = [to_plot.index.values[i]+\" - \"+str(to_plot['count'].values[i]) for i in range(len(to_plot))]\n",
        "plt.yticks(range(len(to_plot.index)), labels_)\n",
        "\n",
        "plt.show()"
      ]
    },
    {
      "cell_type": "code",
      "execution_count": null,
      "metadata": {
        "id": "jZb81t7yBXfV"
      },
      "outputs": [],
      "source": [
        "### MAKING A TOP 3 COUNTRY FOR AGES\n",
        "\n",
        "# oldest age in what country?\n",
        "data.loc[data.age.max(),'country']\n",
        "# youngest age in what country?\n",
        "data.loc[data.age.min(),'country']\n",
        "\n",
        "# groupby country\n",
        "age_by_country = data.groupby('country').agg({'rank':'count','age':'mean'}).sort_values(by='age')\n",
        "# 3 yougest average in what country?\n",
        "age_by_country[:3]\n",
        "# oldest average in what country?\n",
        "age_by_country[-3:]"
      ]
    },
    {
      "cell_type": "code",
      "execution_count": null,
      "metadata": {
        "id": "07DlpZX348Rd"
      },
      "outputs": [],
      "source": [
        "# giving no age the age of the median"
      ]
    },
    {
      "cell_type": "code",
      "execution_count": null,
      "metadata": {
        "id": "s15rp1W84R3Y"
      },
      "outputs": [],
      "source": [
        "# comparaison F/H\n",
        "data.gender.value_counts().plot.pie(autopct='%1.1f%%',\n",
        "                                    title = 'Répartition par genre des Milliardaires',\n",
        "                                    labels=['Hommes','Femmes'],\n",
        "                                    colors=['b','r'])"
      ]
    },
    {
      "cell_type": "code",
      "execution_count": null,
      "metadata": {
        "id": "eo0T1exi527G"
      },
      "outputs": [],
      "source": [
        "import matplotlib.pyplot as plt\n",
        "fig,ax = plt.subplots(figsize=(3,6))\n",
        "ax1 = fig.subplot()\n",
        "ax1.plot.box(data.age)"
      ]
    }
  ],
  "metadata": {
    "colab": {
      "provenance": []
    },
    "kernelspec": {
      "display_name": "Python 3",
      "name": "python3"
    },
    "language_info": {
      "codemirror_mode": {
        "name": "ipython",
        "version": 3
      },
      "file_extension": ".py",
      "mimetype": "text/x-python",
      "name": "python",
      "nbconvert_exporter": "python",
      "pygments_lexer": "ipython3",
      "version": "3.9.13"
    }
  },
  "nbformat": 4,
  "nbformat_minor": 0
}
